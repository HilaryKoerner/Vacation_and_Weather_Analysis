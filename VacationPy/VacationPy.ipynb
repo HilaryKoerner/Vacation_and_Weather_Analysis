{
 "cells": [
  {
   "cell_type": "code",
   "execution_count": 1,
   "metadata": {},
   "outputs": [],
   "source": [
    "# # Dependencies and Setup\n",
    "import matplotlib.pyplot as plt\n",
    "import pandas as pd\n",
    "import numpy as np\n",
    "import requests\n",
    "import gmaps\n",
    "import os\n",
    "\n",
    "# Import API key\n",
    "from config import gkey"
   ]
  },
  {
   "cell_type": "markdown",
   "metadata": {},
   "source": [
    "### Store Part I results into DataFrame"
   ]
  },
  {
   "cell_type": "code",
   "execution_count": 28,
   "metadata": {},
   "outputs": [
    {
     "data": {
      "text/plain": [
       "'Resources/cities.csv'"
      ]
     },
     "execution_count": 28,
     "metadata": {},
     "output_type": "execute_result"
    }
   ],
   "source": [
    "cities_csv = \"Resources/cities.csv\""
   ]
  },
  {
   "cell_type": "code",
   "execution_count": 32,
   "metadata": {
    "scrolled": true
   },
   "outputs": [
    {
     "data": {
      "text/html": [
       "<div>\n",
       "<style scoped>\n",
       "    .dataframe tbody tr th:only-of-type {\n",
       "        vertical-align: middle;\n",
       "    }\n",
       "\n",
       "    .dataframe tbody tr th {\n",
       "        vertical-align: top;\n",
       "    }\n",
       "\n",
       "    .dataframe thead th {\n",
       "        text-align: right;\n",
       "    }\n",
       "</style>\n",
       "<table border=\"1\" class=\"dataframe\">\n",
       "  <thead>\n",
       "    <tr style=\"text-align: right;\">\n",
       "      <th></th>\n",
       "      <th>City</th>\n",
       "      <th>Latitude</th>\n",
       "      <th>Longitude</th>\n",
       "      <th>Max Temp</th>\n",
       "      <th>Humidity</th>\n",
       "      <th>Cloudiness</th>\n",
       "      <th>Wind Speed</th>\n",
       "      <th>Country</th>\n",
       "      <th>Date</th>\n",
       "    </tr>\n",
       "  </thead>\n",
       "  <tbody>\n",
       "    <tr>\n",
       "      <th>0</th>\n",
       "      <td>Kaitangata</td>\n",
       "      <td>-46.2817</td>\n",
       "      <td>169.8464</td>\n",
       "      <td>52.00</td>\n",
       "      <td>71</td>\n",
       "      <td>95</td>\n",
       "      <td>21.00</td>\n",
       "      <td>NZ</td>\n",
       "      <td>1611806035</td>\n",
       "    </tr>\n",
       "    <tr>\n",
       "      <th>1</th>\n",
       "      <td>Jamestown</td>\n",
       "      <td>42.0970</td>\n",
       "      <td>-79.2353</td>\n",
       "      <td>21.99</td>\n",
       "      <td>86</td>\n",
       "      <td>90</td>\n",
       "      <td>7.54</td>\n",
       "      <td>US</td>\n",
       "      <td>1611805907</td>\n",
       "    </tr>\n",
       "    <tr>\n",
       "      <th>2</th>\n",
       "      <td>Gumdag</td>\n",
       "      <td>39.2061</td>\n",
       "      <td>54.5906</td>\n",
       "      <td>37.26</td>\n",
       "      <td>75</td>\n",
       "      <td>19</td>\n",
       "      <td>23.80</td>\n",
       "      <td>TM</td>\n",
       "      <td>1611806035</td>\n",
       "    </tr>\n",
       "    <tr>\n",
       "      <th>3</th>\n",
       "      <td>El Salvador</td>\n",
       "      <td>13.8333</td>\n",
       "      <td>-88.9167</td>\n",
       "      <td>75.20</td>\n",
       "      <td>83</td>\n",
       "      <td>0</td>\n",
       "      <td>1.14</td>\n",
       "      <td>SV</td>\n",
       "      <td>1611806035</td>\n",
       "    </tr>\n",
       "    <tr>\n",
       "      <th>4</th>\n",
       "      <td>Mount Gambier</td>\n",
       "      <td>-37.8333</td>\n",
       "      <td>140.7667</td>\n",
       "      <td>82.40</td>\n",
       "      <td>39</td>\n",
       "      <td>100</td>\n",
       "      <td>8.05</td>\n",
       "      <td>AU</td>\n",
       "      <td>1611806010</td>\n",
       "    </tr>\n",
       "    <tr>\n",
       "      <th>...</th>\n",
       "      <td>...</td>\n",
       "      <td>...</td>\n",
       "      <td>...</td>\n",
       "      <td>...</td>\n",
       "      <td>...</td>\n",
       "      <td>...</td>\n",
       "      <td>...</td>\n",
       "      <td>...</td>\n",
       "      <td>...</td>\n",
       "    </tr>\n",
       "    <tr>\n",
       "      <th>559</th>\n",
       "      <td>Olinda</td>\n",
       "      <td>-8.0089</td>\n",
       "      <td>-34.8553</td>\n",
       "      <td>78.80</td>\n",
       "      <td>73</td>\n",
       "      <td>75</td>\n",
       "      <td>6.91</td>\n",
       "      <td>BR</td>\n",
       "      <td>1611806178</td>\n",
       "    </tr>\n",
       "    <tr>\n",
       "      <th>560</th>\n",
       "      <td>Bam</td>\n",
       "      <td>29.1060</td>\n",
       "      <td>58.3570</td>\n",
       "      <td>47.17</td>\n",
       "      <td>38</td>\n",
       "      <td>0</td>\n",
       "      <td>3.22</td>\n",
       "      <td>IR</td>\n",
       "      <td>1611806178</td>\n",
       "    </tr>\n",
       "    <tr>\n",
       "      <th>561</th>\n",
       "      <td>Pokhara</td>\n",
       "      <td>28.2333</td>\n",
       "      <td>83.9833</td>\n",
       "      <td>64.22</td>\n",
       "      <td>26</td>\n",
       "      <td>0</td>\n",
       "      <td>4.41</td>\n",
       "      <td>NP</td>\n",
       "      <td>1611806179</td>\n",
       "    </tr>\n",
       "    <tr>\n",
       "      <th>562</th>\n",
       "      <td>Stokmarknes</td>\n",
       "      <td>68.5646</td>\n",
       "      <td>14.9108</td>\n",
       "      <td>24.01</td>\n",
       "      <td>63</td>\n",
       "      <td>27</td>\n",
       "      <td>5.99</td>\n",
       "      <td>NO</td>\n",
       "      <td>1611806179</td>\n",
       "    </tr>\n",
       "    <tr>\n",
       "      <th>563</th>\n",
       "      <td>Tsabong</td>\n",
       "      <td>-26.0217</td>\n",
       "      <td>22.4010</td>\n",
       "      <td>69.76</td>\n",
       "      <td>41</td>\n",
       "      <td>20</td>\n",
       "      <td>2.53</td>\n",
       "      <td>BW</td>\n",
       "      <td>1611806179</td>\n",
       "    </tr>\n",
       "  </tbody>\n",
       "</table>\n",
       "<p>560 rows × 9 columns</p>\n",
       "</div>"
      ],
      "text/plain": [
       "              City  Latitude  Longitude  Max Temp  Humidity  Cloudiness  \\\n",
       "0       Kaitangata  -46.2817   169.8464     52.00        71          95   \n",
       "1        Jamestown   42.0970   -79.2353     21.99        86          90   \n",
       "2           Gumdag   39.2061    54.5906     37.26        75          19   \n",
       "3      El Salvador   13.8333   -88.9167     75.20        83           0   \n",
       "4    Mount Gambier  -37.8333   140.7667     82.40        39         100   \n",
       "..             ...       ...        ...       ...       ...         ...   \n",
       "559         Olinda   -8.0089   -34.8553     78.80        73          75   \n",
       "560            Bam   29.1060    58.3570     47.17        38           0   \n",
       "561        Pokhara   28.2333    83.9833     64.22        26           0   \n",
       "562    Stokmarknes   68.5646    14.9108     24.01        63          27   \n",
       "563        Tsabong  -26.0217    22.4010     69.76        41          20   \n",
       "\n",
       "     Wind Speed Country        Date  \n",
       "0         21.00      NZ  1611806035  \n",
       "1          7.54      US  1611805907  \n",
       "2         23.80      TM  1611806035  \n",
       "3          1.14      SV  1611806035  \n",
       "4          8.05      AU  1611806010  \n",
       "..          ...     ...         ...  \n",
       "559        6.91      BR  1611806178  \n",
       "560        3.22      IR  1611806178  \n",
       "561        4.41      NP  1611806179  \n",
       "562        5.99      NO  1611806179  \n",
       "563        2.53      BW  1611806179  \n",
       "\n",
       "[560 rows x 9 columns]"
      ]
     },
     "execution_count": 32,
     "metadata": {},
     "output_type": "execute_result"
    }
   ],
   "source": [
    "cities_df = pd.read_csv(cities_csv)\n",
    "cities_df.dropna(inplace=True)\n",
    "cities_df"
   ]
  },
  {
   "cell_type": "markdown",
   "metadata": {},
   "source": [
    "### Humidity Heatmap "
   ]
  },
  {
   "cell_type": "code",
   "execution_count": 33,
   "metadata": {},
   "outputs": [
    {
     "data": {
      "application/vnd.jupyter.widget-view+json": {
       "model_id": "738daa8b6e7b4225abf515752de95da0",
       "version_major": 2,
       "version_minor": 0
      },
      "text/plain": [
       "Figure(layout=FigureLayout(height='420px'))"
      ]
     },
     "metadata": {},
     "output_type": "display_data"
    }
   ],
   "source": [
    "#Configure gmaps.\n",
    "gmaps.configure(api_key=gkey)\n",
    "\n",
    "#Use the Lat and Lng as locations and Humidity as the weight.\n",
    "locations = cities_df[[\"Latitude\", \"Longitude\"]]\n",
    "humidity = cities_df[\"Humidity\"].astype(float)\n",
    "\n",
    "#plot heatmap\n",
    "fig = gmaps.figure()\n",
    "\n",
    "#Add Heatmap layer to map.\n",
    "heat_layer = gmaps.heatmap_layer(locations, weights=humidity, \n",
    "                                 dissipating=False, max_intensity=10, \n",
    "                                 point_radius=1)\n",
    "\n",
    "fig.add_layer(heat_layer)\n",
    "\n",
    "fig"
   ]
  },
  {
   "cell_type": "markdown",
   "metadata": {},
   "source": [
    "### Create new DataFrame fitting weather criteria"
   ]
  },
  {
   "cell_type": "code",
   "execution_count": null,
   "metadata": {},
   "outputs": [],
   "source": [
    "# Narrow down the cities to fit weather conditions.\n",
    "# Drop any rows will null values."
   ]
  },
  {
   "cell_type": "markdown",
   "metadata": {},
   "source": [
    "### Hotel Map"
   ]
  },
  {
   "cell_type": "code",
   "execution_count": null,
   "metadata": {},
   "outputs": [],
   "source": [
    "# Store into variable named hotel_df.\n",
    "# Add a \"Hotel Name\" column to the DataFrame.\n",
    "# Set parameters to search for hotels with 5000 meters.\n",
    "# Hit the Google Places API for each city's coordinates.\n",
    "# Store the first Hotel result into the DataFrame.\n",
    "# Plot markers on top of the heatmap."
   ]
  },
  {
   "cell_type": "code",
   "execution_count": null,
   "metadata": {},
   "outputs": [],
   "source": [
    " # NOTE: Do not change any of the code in this cell\n",
    "\n",
    "# Using the template add the hotel marks to the heatmap\n",
    "info_box_template = \"\"\"\n",
    "<dl>\n",
    "<dt>Name</dt><dd>{Hotel Name}</dd>\n",
    "<dt>City</dt><dd>{City}</dd>\n",
    "<dt>Country</dt><dd>{Country}</dd>\n",
    "</dl>\n",
    "\"\"\"\n",
    "# Store the DataFrame Row\n",
    "# NOTE: be sure to update with your DataFrame name\n",
    "hotel_info = [info_box_template.format(**row) for index, row in hotel_df.iterrows()]\n",
    "locations = hotel_df[[\"Lat\", \"Lng\"]]"
   ]
  },
  {
   "cell_type": "code",
   "execution_count": null,
   "metadata": {},
   "outputs": [],
   "source": [
    " # Add marker layer ontop of heat map\n",
    "\n",
    "\n",
    "# Display figure"
   ]
  },
  {
   "cell_type": "code",
   "execution_count": null,
   "metadata": {},
   "outputs": [],
   "source": []
  }
 ],
 "metadata": {
  "kernelspec": {
   "display_name": "Python 3",
   "language": "python",
   "name": "python3"
  },
  "language_info": {
   "codemirror_mode": {
    "name": "ipython",
    "version": 3
   },
   "file_extension": ".py",
   "mimetype": "text/x-python",
   "name": "python",
   "nbconvert_exporter": "python",
   "pygments_lexer": "ipython3",
   "version": "3.8.3"
  }
 },
 "nbformat": 4,
 "nbformat_minor": 4
}
