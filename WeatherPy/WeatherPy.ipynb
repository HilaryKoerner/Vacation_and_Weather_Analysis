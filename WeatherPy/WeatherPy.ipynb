{
 "cells": [
  {
   "cell_type": "markdown",
   "metadata": {},
   "source": [
    "### Dependencies"
   ]
  },
  {
   "cell_type": "code",
   "execution_count": 40,
   "metadata": {},
   "outputs": [],
   "source": [
    "import matplotlib.pyplot as plt\n",
    "import pandas as pd\n",
    "import numpy as np\n",
    "import json\n",
    "import requests\n",
    "import time\n",
    "from scipy.stats import linregress\n",
    "import scipy.stats as st\n",
    "import datetime as dt\n",
    "\n",
    "# Import API key\n",
    "from config import api_key\n",
    "\n",
    "# Incorporated citipy to determine city based on latitude and longitude\n",
    "from citipy import citipy\n",
    "\n",
    "# Output File (CSV)\n",
    "# weather_data = \"output_data/cities.csv\"\n",
    "\n",
    "# Range of latitudes and longitudes\n",
    "lat_range = (-90, 90)\n",
    "lng_range = (-180, 180)"
   ]
  },
  {
   "cell_type": "markdown",
   "metadata": {},
   "source": [
    "### Generate Cities List "
   ]
  },
  {
   "cell_type": "code",
   "execution_count": 2,
   "metadata": {
    "scrolled": true
   },
   "outputs": [
    {
     "data": {
      "text/plain": [
       "646"
      ]
     },
     "execution_count": 2,
     "metadata": {},
     "output_type": "execute_result"
    }
   ],
   "source": [
    " # List for holding lat_lngs and cities\n",
    "lat_lngs = []\n",
    "cities = []\n",
    "\n",
    "# Create a set of random lat and lng combinations\n",
    "lats = np.random.uniform(lat_range[0], lat_range[1], size=1500)\n",
    "lngs = np.random.uniform(lng_range[0], lng_range[1], size=1500)\n",
    "lat_lngs = zip(lats, lngs)\n",
    "\n",
    "# Identify nearest city for each lat, lng combination\n",
    "for lat_lng in lat_lngs:\n",
    "    city = citipy.nearest_city(lat_lng[0], lat_lng[1]).city_name\n",
    "    \n",
    "    # If the city is unique, then add it to a our cities list\n",
    "    if city not in cities:\n",
    "        cities.append(city)\n",
    "\n",
    "# Print the city count to confirm sufficient count\n",
    "len(cities)\n",
    "# print(cities)"
   ]
  },
  {
   "cell_type": "markdown",
   "metadata": {},
   "source": [
    "### Perform API Calls "
   ]
  },
  {
   "cell_type": "code",
   "execution_count": 3,
   "metadata": {},
   "outputs": [],
   "source": [
    "url = \"http://api.openweathermap.org/data/2.5/weather?\"\n",
    "units = \"imperial\"\n",
    "query_url = f\"{url}appid={api_key}&units={units}&q=\""
   ]
  },
  {
   "cell_type": "code",
   "execution_count": 4,
   "metadata": {
    "scrolled": true
   },
   "outputs": [],
   "source": [
    "# temp_test = []\n",
    "# city_test = ['chicago', 'miami', 'london', 'xxx']\n",
    "# good_cities = []\n",
    "# for city in city_test:\n",
    "#     response = requests.get(query_url + city).json()\n",
    "#     try:\n",
    "#         temp_test.append(response[\"main\"][\"temp\"])\n",
    "#         good_cities.append(city)\n",
    "#         print(f\"{city} found. Temp appending\")\n",
    "#     except KeyError:\n",
    "#         print(f\"no temp for {city}\")\n",
    "# print(response)\n",
    "# print(temp_test)\n",
    "# print(good_cities)\n"
   ]
  },
  {
   "cell_type": "code",
   "execution_count": 5,
   "metadata": {},
   "outputs": [
    {
     "name": "stdout",
     "output_type": "stream",
     "text": [
      "Success! Appending myitkyina\n",
      "Failed! No temp found for taolanaro\n",
      "Success! Appending yellowknife\n",
      "Failed! No temp found for warqla\n",
      "Success! Appending tasiilaq\n",
      "Success! Appending busselton\n",
      "Success! Appending pevek\n",
      "Success! Appending esna\n",
      "Success! Appending katsuura\n",
      "Failed! No temp found for mentok\n",
      "Success! Appending saldanha\n",
      "Success! Appending jalu\n",
      "Success! Appending norman wells\n",
      "Success! Appending vaini\n",
      "Success! Appending egvekinot\n",
      "Success! Appending klaksvik\n",
      "Success! Appending albany\n",
      "Failed! No temp found for belushya guba\n",
      "Success! Appending saskylakh\n",
      "Success! Appending cidreira\n",
      "Success! Appending atuona\n",
      "Success! Appending butaritari\n",
      "Success! Appending antalaha\n",
      "Success! Appending cuicatlan\n",
      "Success! Appending ribeira grande\n",
      "Success! Appending qaanaaq\n",
      "Success! Appending bambous virieux\n",
      "Success! Appending longyearbyen\n",
      "Success! Appending sao filipe\n",
      "Success! Appending poum\n",
      "Success! Appending bluff\n",
      "Success! Appending nome\n",
      "Success! Appending kapaa\n",
      "Success! Appending cape town\n",
      "Success! Appending flinders\n",
      "Success! Appending thompson\n",
      "Success! Appending punta arenas\n",
      "Success! Appending mashhad\n",
      "Success! Appending constitucion\n",
      "Failed! No temp found for tsihombe\n",
      "Success! Appending saint george\n",
      "Success! Appending smiltene\n",
      "Success! Appending aklavik\n",
      "Success! Appending belyy yar\n",
      "Success! Appending grindavik\n",
      "Success! Appending constantine\n",
      "Success! Appending tyrma\n",
      "Success! Appending rincon\n",
      "Success! Appending ushuaia\n",
      "Success! Appending broome\n",
      "Success! Appending kaseda\n",
      "Success! Appending mahebourg\n",
      "Success! Appending hobyo\n",
      "Success! Appending gilgit\n",
      "Success! Appending rikitea\n",
      "Success! Appending zhezkazgan\n",
      "Success! Appending zhigansk\n",
      "Success! Appending benjamin constant\n",
      "Success! Appending mazara del vallo\n",
      "Success! Appending rawson\n",
      "Success! Appending lappeenranta\n",
      "Success! Appending osinovo\n",
      "Failed! No temp found for mullaitivu\n",
      "Failed! No temp found for dzhusaly\n",
      "Success! Appending port alfred\n",
      "Success! Appending hare bay\n",
      "Success! Appending tiksi\n",
      "Success! Appending sangar\n",
      "Success! Appending coihaique\n",
      "Success! Appending hilo\n",
      "Success! Appending keningau\n",
      "Success! Appending mindelo\n",
      "Success! Appending faanui\n",
      "Success! Appending oga\n",
      "Success! Appending bethel\n",
      "Success! Appending san cristobal\n",
      "Success! Appending naze\n",
      "Success! Appending sao joao da barra\n",
      "Success! Appending souillac\n",
      "Success! Appending marsabit\n",
      "Failed! No temp found for illoqqortoormiut\n",
      "Success! Appending valdivia\n",
      "Success! Appending hasaki\n",
      "Success! Appending igrim\n",
      "Success! Appending ilulissat\n",
      "Success! Appending pisco\n",
      "Success! Appending lebu\n",
      "Success! Appending kankaanpaa\n",
      "Failed! No temp found for sentyabrskiy\n",
      "Success! Appending honningsvag\n",
      "Success! Appending hibbing\n",
      "Success! Appending husavik\n",
      "Success! Appending korba\n",
      "Success! Appending lagoa\n",
      "Success! Appending sabzevar\n",
      "Success! Appending dikson\n",
      "Success! Appending oistins\n",
      "Success! Appending playa vicente\n",
      "Success! Appending chokurdakh\n",
      "Success! Appending mahibadhoo\n",
      "Success! Appending mirnyy\n",
      "Success! Appending puerto ayora\n",
      "Success! Appending basco\n",
      "Success! Appending ozernovskiy\n",
      "Success! Appending verkhnyaya inta\n",
      "Success! Appending sola\n",
      "Success! Appending portland\n",
      "Success! Appending kalangala\n",
      "Success! Appending cervo\n",
      "Success! Appending victoria\n",
      "Success! Appending mataura\n",
      "Success! Appending hervey bay\n",
      "Success! Appending comodoro rivadavia\n",
      "Success! Appending rexburg\n",
      "Success! Appending ravar\n",
      "Success! Appending hobart\n",
      "Success! Appending manacapuru\n",
      "Success! Appending lewisburg\n",
      "Success! Appending red bluff\n",
      "Success! Appending bukama\n",
      "Success! Appending mehran\n",
      "Success! Appending ponta do sol\n",
      "Success! Appending kahului\n",
      "Success! Appending roma\n",
      "Success! Appending kodiak\n",
      "Success! Appending mandurah\n",
      "Success! Appending jamestown\n",
      "Success! Appending storsteinnes\n",
      "Success! Appending betioky\n",
      "Success! Appending cherepovets\n",
      "Success! Appending la ronge\n",
      "Success! Appending kilemary\n",
      "Success! Appending sajanan\n",
      "Success! Appending morondava\n",
      "Success! Appending barcelos\n",
      "Success! Appending inyonga\n",
      "Success! Appending bentiu\n",
      "Success! Appending adrar\n",
      "Success! Appending hermanus\n",
      "Success! Appending beloha\n",
      "Success! Appending cockburn town\n",
      "Success! Appending tabou\n",
      "Failed! No temp found for jujuy\n",
      "Success! Appending bodden town\n",
      "Failed! No temp found for paucartambo\n",
      "Failed! No temp found for umzimvubu\n",
      "Success! Appending raudeberg\n",
      "Success! Appending kununurra\n",
      "Success! Appending kruisfontein\n",
      "Success! Appending taoudenni\n",
      "Success! Appending suntar\n",
      "Success! Appending ostrovnoy\n",
      "Success! Appending lompoc\n",
      "Success! Appending tahlequah\n",
      "Success! Appending barrow\n",
      "Success! Appending asau\n",
      "Success! Appending rio gallegos\n",
      "Success! Appending jacareacanga\n",
      "Failed! No temp found for vaitupu\n",
      "Failed! No temp found for bolungarvik\n",
      "Success! Appending pangody\n",
      "Success! Appending cayon\n",
      "Success! Appending kitama\n",
      "Success! Appending torbay\n",
      "Success! Appending saint-philippe\n",
      "Success! Appending sur\n",
      "Success! Appending kralendijk\n",
      "Failed! No temp found for saleaula\n",
      "Success! Appending alofi\n",
      "Success! Appending bredasdorp\n",
      "Success! Appending tilichiki\n",
      "Success! Appending tambo\n",
      "Failed! No temp found for haibowan\n",
      "Failed! No temp found for ngukurr\n",
      "Success! Appending kanata\n",
      "Success! Appending a coruna\n",
      "Success! Appending chuy\n",
      "Success! Appending nushki\n",
      "Success! Appending belfort\n",
      "Success! Appending kargasok\n",
      "Success! Appending east london\n",
      "Success! Appending vila velha\n",
      "Success! Appending ancud\n",
      "Success! Appending khatanga\n",
      "Success! Appending waipawa\n",
      "Success! Appending airai\n",
      "Success! Appending abu kamal\n",
      "Success! Appending rudsar\n",
      "Success! Appending bathsheba\n",
      "Success! Appending avarua\n",
      "Success! Appending olafsvik\n",
      "Success! Appending surt\n",
      "Success! Appending bucyrus\n",
      "Success! Appending amazar\n",
      "Success! Appending new norfolk\n",
      "Failed! No temp found for nizhneyansk\n",
      "Success! Appending codrington\n",
      "Success! Appending amparafaravola\n",
      "Success! Appending leningradskiy\n",
      "Failed! No temp found for grand river south east\n",
      "Success! Appending srednekolymsk\n",
      "Failed! No temp found for sogdiondon\n",
      "Success! Appending gamba\n",
      "Success! Appending astoria\n",
      "Success! Appending oranjemund\n",
      "Success! Appending canete\n",
      "Success! Appending correntina\n",
      "Success! Appending paita\n",
      "Success! Appending obama\n",
      "Success! Appending kwinana\n",
      "Success! Appending fortuna\n",
      "Success! Appending karwar\n",
      "Success! Appending russell\n",
      "Success! Appending iqaluit\n",
      "Failed! No temp found for gurgan\n",
      "Success! Appending benicarlo\n",
      "Success! Appending olga\n",
      "Success! Appending bonavista\n",
      "Success! Appending port macquarie\n",
      "Success! Appending gat\n",
      "Success! Appending tuktoyaktuk\n",
      "Success! Appending miri\n",
      "Failed! No temp found for hadimkoy\n",
      "Success! Appending belmonte\n",
      "Success! Appending pilar\n",
      "Success! Appending oum hadjer\n",
      "Success! Appending sigli\n",
      "Success! Appending cururupu\n",
      "Failed! No temp found for kuche\n",
      "Success! Appending placerville\n",
      "Success! Appending alice springs\n",
      "Failed! No temp found for sahrak\n",
      "Success! Appending kiama\n",
      "Success! Appending qaqortoq\n",
      "Success! Appending kamloops\n",
      "Success! Appending vardo\n",
      "Success! Appending geraldton\n",
      "Success! Appending bonthe\n",
      "Success! Appending viedma\n",
      "Success! Appending halifax\n",
      "Success! Appending codajas\n",
      "Failed! No temp found for cah ab\n",
      "Failed! No temp found for grimari\n",
      "Success! Appending yulara\n",
      "Success! Appending aitape\n",
      "Failed! No temp found for attawapiskat\n",
      "Success! Appending hithadhoo\n",
      "Failed! No temp found for cockburn harbour\n",
      "Failed! No temp found for tumannyy\n",
      "Failed! No temp found for kamenskoye\n",
      "Failed! No temp found for mys shmidta\n",
      "Success! Appending port hardy\n",
      "Failed! No temp found for sinkat\n",
      "Success! Appending senovo\n",
      "Success! Appending visnes\n",
      "Success! Appending clarksville\n",
      "Success! Appending lugasu de jos\n",
      "Success! Appending berlevag\n",
      "Success! Appending tarauaca\n",
      "Success! Appending barcelona\n",
      "Success! Appending madimba\n",
      "Success! Appending nagato\n",
      "Success! Appending plouzane\n",
      "Success! Appending adeje\n",
      "Success! Appending havelock\n",
      "Success! Appending nikolskoye\n",
      "Success! Appending leonidovo\n",
      "Success! Appending westport\n",
      "Success! Appending samana\n",
      "Failed! No temp found for beruni\n",
      "Success! Appending port elizabeth\n",
      "Success! Appending vao\n",
      "Success! Appending fjerritslev\n",
      "Success! Appending severo-kurilsk\n",
      "Success! Appending goderich\n",
      "Success! Appending arraial do cabo\n",
      "Success! Appending puerto el triunfo\n",
      "Success! Appending anadyr\n",
      "Success! Appending santa cruz de la palma\n",
      "Success! Appending salalah\n",
      "Success! Appending nchelenge\n",
      "Success! Appending bulalacao\n",
      "Success! Appending kaminoyama\n"
     ]
    },
    {
     "name": "stdout",
     "output_type": "stream",
     "text": [
      "Success! Appending ushibuka\n",
      "Success! Appending kitgum\n",
      "Success! Appending plettenberg bay\n",
      "Success! Appending chipinge\n",
      "Success! Appending namatanai\n",
      "Success! Appending kurilsk\n",
      "Success! Appending ponta delgada\n",
      "Failed! No temp found for marcona\n",
      "Success! Appending koslan\n",
      "Success! Appending dingle\n",
      "Success! Appending inhambane\n",
      "Success! Appending tual\n",
      "Success! Appending gravdal\n",
      "Success! Appending kutum\n",
      "Success! Appending evanston\n",
      "Success! Appending lakselv\n",
      "Success! Appending marilandia\n",
      "Success! Appending chiang khong\n",
      "Success! Appending birnin kebbi\n",
      "Success! Appending provideniya\n",
      "Success! Appending mar del plata\n",
      "Success! Appending price\n",
      "Success! Appending praia da vitoria\n",
      "Failed! No temp found for samusu\n",
      "Success! Appending jiwani\n",
      "Success! Appending naryan-mar\n",
      "Failed! No temp found for amderma\n",
      "Success! Appending pleasanton\n",
      "Success! Appending beringovskiy\n",
      "Success! Appending port-cartier\n",
      "Success! Appending chernyshevskiy\n",
      "Success! Appending strezhevoy\n",
      "Success! Appending hamilton\n",
      "Success! Appending shenjiamen\n",
      "Success! Appending araouane\n",
      "Success! Appending kyra\n",
      "Failed! No temp found for mahaicony\n",
      "Success! Appending canakkale\n",
      "Success! Appending sibu\n",
      "Success! Appending tooele\n",
      "Success! Appending tromso\n",
      "Success! Appending laguna\n",
      "Success! Appending yumen\n",
      "Success! Appending palana\n",
      "Success! Appending nacala\n",
      "Success! Appending sitka\n",
      "Success! Appending north bend\n",
      "Success! Appending ketchikan\n",
      "Success! Appending mali\n",
      "Success! Appending narsaq\n",
      "Success! Appending kropotkin\n",
      "Success! Appending cabedelo\n",
      "Success! Appending lengshuijiang\n",
      "Failed! No temp found for alotau\n",
      "Success! Appending coahuayana\n",
      "Success! Appending esperance\n",
      "Success! Appending san patricio\n",
      "Success! Appending gusau\n",
      "Success! Appending nanortalik\n",
      "Failed! No temp found for jinchengjiang\n",
      "Success! Appending makakilo city\n",
      "Success! Appending bandarbeyla\n",
      "Success! Appending salym\n",
      "Success! Appending port-gentil\n",
      "Failed! No temp found for sofiysk\n",
      "Success! Appending methoni\n",
      "Success! Appending upernavik\n",
      "Success! Appending mattru\n",
      "Success! Appending te anau\n",
      "Success! Appending saint-augustin\n",
      "Success! Appending mehamn\n",
      "Success! Appending akonolinga\n",
      "Success! Appending bontang\n",
      "Success! Appending sambava\n",
      "Success! Appending baghmara\n",
      "Success! Appending zheleznodorozhnyy\n",
      "Success! Appending chapais\n",
      "Success! Appending lermontovka\n",
      "Success! Appending valparaiso\n",
      "Success! Appending marzuq\n",
      "Failed! No temp found for buariki\n",
      "Success! Appending erenhot\n",
      "Success! Appending falkenberg\n",
      "Success! Appending mogadishu\n",
      "Success! Appending batagay-alyta\n",
      "Failed! No temp found for halalo\n",
      "Success! Appending sibolga\n",
      "Success! Appending arlit\n",
      "Success! Appending tokmak\n",
      "Failed! No temp found for bokspits\n",
      "Success! Appending muros\n",
      "Success! Appending zile\n",
      "Success! Appending pangnirtung\n",
      "Success! Appending ugoofaaru\n",
      "Success! Appending talaya\n",
      "Success! Appending ca mau\n",
      "Success! Appending kavieng\n",
      "Success! Appending columbus\n",
      "Success! Appending deputatskiy\n",
      "Success! Appending doha\n",
      "Success! Appending leeton\n",
      "Success! Appending gondang\n",
      "Success! Appending vila franca do campo\n",
      "Success! Appending lamar\n",
      "Failed! No temp found for ho\n",
      "Success! Appending castro\n",
      "Success! Appending marin\n",
      "Success! Appending flin flon\n",
      "Success! Appending douentza\n",
      "Success! Appending katav-ivanovsk\n",
      "Failed! No temp found for aflu\n",
      "Success! Appending samarai\n",
      "Success! Appending bengkulu\n",
      "Success! Appending kudahuvadhoo\n",
      "Success! Appending muisne\n",
      "Failed! No temp found for el wasta\n",
      "Success! Appending idrinskoye\n",
      "Success! Appending bismarck\n",
      "Success! Appending kaitangata\n",
      "Success! Appending boddam\n",
      "Success! Appending padilla\n",
      "Success! Appending komsomolskiy\n",
      "Success! Appending byron bay\n",
      "Success! Appending vung tau\n",
      "Success! Appending maceio\n",
      "Success! Appending kavaratti\n",
      "Success! Appending aktas\n",
      "Success! Appending saint anthony\n",
      "Success! Appending sosua\n",
      "Success! Appending carutapera\n",
      "Success! Appending cornwall\n",
      "Success! Appending dzaoudzi\n",
      "Success! Appending namibe\n",
      "Success! Appending praia\n",
      "Success! Appending kalulushi\n",
      "Success! Appending wanning\n",
      "Failed! No temp found for skalistyy\n",
      "Success! Appending moron\n",
      "Success! Appending huarmey\n",
      "Success! Appending hofn\n",
      "Success! Appending mina\n",
      "Success! Appending seymchan\n",
      "Success! Appending acapulco\n",
      "Failed! No temp found for kegayli\n",
      "Success! Appending norsup\n",
      "Success! Appending portree\n",
      "Success! Appending krasnyy kommunar\n",
      "Success! Appending santa catarina\n",
      "Success! Appending tambura\n",
      "Success! Appending paamiut\n",
      "Success! Appending turukhansk\n",
      "Failed! No temp found for geresk\n",
      "Success! Appending ibra\n",
      "Success! Appending svetlaya\n",
      "Success! Appending brae\n",
      "Success! Appending salgueiro\n",
      "Success! Appending tura\n",
      "Success! Appending cherskiy\n",
      "Success! Appending ouadda\n",
      "Success! Appending kiunga\n",
      "Success! Appending boguchany\n",
      "Success! Appending bam\n",
      "Success! Appending olgod\n",
      "Success! Appending sobolevo\n",
      "Success! Appending nemuro\n",
      "Success! Appending nishihara\n",
      "Success! Appending dakar\n",
      "Success! Appending pacific grove\n",
      "Success! Appending sakakah\n",
      "Success! Appending broken hill\n",
      "Success! Appending bondo\n",
      "Success! Appending tagusao\n",
      "Success! Appending leh\n",
      "Success! Appending sfantu gheorghe\n",
      "Success! Appending xai-xai\n",
      "Success! Appending lovozero\n",
      "Success! Appending karratha\n",
      "Success! Appending kyren\n",
      "Success! Appending tupik\n",
      "Success! Appending kurchum\n",
      "Success! Appending teahupoo\n",
      "Success! Appending aksu\n",
      "Success! Appending mizque\n",
      "Success! Appending lata\n",
      "Success! Appending caucaia\n",
      "Success! Appending bath\n",
      "Success! Appending padang\n",
      "Success! Appending wenling\n",
      "Success! Appending saint-pierre\n",
      "Success! Appending la palma\n",
      "Success! Appending muscat\n",
      "Success! Appending mahon\n",
      "Success! Appending sistranda\n",
      "Success! Appending moskovskiy\n",
      "Success! Appending tandil\n",
      "Success! Appending canaries\n",
      "Success! Appending moose factory\n",
      "Success! Appending yuancheng\n",
      "Success! Appending port blair\n",
      "Success! Appending grand gaube\n",
      "Success! Appending tocopilla\n",
      "Success! Appending birjand\n",
      "Success! Appending biak\n",
      "Success! Appending andilamena\n",
      "Success! Appending lhokseumawe\n",
      "Success! Appending buala\n",
      "Success! Appending quatre cocos\n",
      "Success! Appending son la\n",
      "Success! Appending mandalgovi\n",
      "Success! Appending sainte-marie\n",
      "Success! Appending erdenet\n",
      "Success! Appending port lincoln\n",
      "Success! Appending talcahuano\n",
      "Success! Appending araguaina\n",
      "Success! Appending castrovillari\n",
      "Success! Appending quimperle\n",
      "Success! Appending nantucket\n",
      "Failed! No temp found for labutta\n",
      "Success! Appending lianran\n",
      "Success! Appending cap malheureux\n",
      "Success! Appending san blas\n",
      "Success! Appending baherden\n",
      "Success! Appending vradiyivka\n",
      "Success! Appending guerrero negro\n",
      "Success! Appending yatou\n",
      "Success! Appending daokou\n",
      "Success! Appending karaton\n",
      "Success! Appending liku\n",
      "Success! Appending kibuye\n",
      "Success! Appending impfondo\n",
      "Success! Appending shingu\n",
      "Success! Appending clyde river\n",
      "Success! Appending atar\n",
      "Success! Appending matay\n",
      "Success! Appending azare\n",
      "Success! Appending fairbanks\n",
      "Success! Appending boa vista\n",
      "Success! Appending santa lucia\n",
      "Success! Appending japura\n",
      "Success! Appending dutse\n",
      "Success! Appending galveston\n",
      "Success! Appending bardsir\n",
      "Success! Appending skotterud\n",
      "Success! Appending hua hin\n",
      "Success! Appending meulaboh\n",
      "Success! Appending monte alegre\n",
      "Success! Appending vuktyl\n",
      "Success! Appending agadez\n",
      "Success! Appending najran\n",
      "Success! Appending talnakh\n",
      "Success! Appending itaituba\n",
      "Failed! No temp found for mocambique\n",
      "Success! Appending fukue\n",
      "Failed! No temp found for dolbeau\n",
      "Success! Appending mizdah\n",
      "Success! Appending boralday\n",
      "Success! Appending dongfeng\n",
      "Success! Appending avera\n",
      "Success! Appending kapustin yar\n",
      "Success! Appending lamas\n",
      "Success! Appending touros\n",
      "Success! Appending gazli\n",
      "Success! Appending topeka\n",
      "Success! Appending canutama\n",
      "Success! Appending hami\n",
      "Success! Appending mamlyutka\n",
      "Success! Appending mount gambier\n",
      "Success! Appending banjar\n",
      "Success! Appending leshukonskoye\n",
      "Failed! No temp found for barentsburg\n",
      "Failed! No temp found for bargal\n",
      "Success! Appending slonim\n",
      "Success! Appending stornoway\n",
      "Success! Appending klin\n",
      "Success! Appending poshekhonye\n",
      "Failed! No temp found for tuggurt\n",
      "Success! Appending uyuni\n",
      "Success! Appending shiyan\n",
      "Success! Appending aswan\n",
      "Success! Appending develi\n",
      "Success! Appending bonnyville\n",
      "Success! Appending nokaneng\n",
      "Success! Appending kaarina\n",
      "Success! Appending isangel\n",
      "Success! Appending jackson\n",
      "Success! Appending bilibino\n",
      "Success! Appending caravelas\n",
      "Success! Appending kaduna\n"
     ]
    },
    {
     "name": "stdout",
     "output_type": "stream",
     "text": [
      "Success! Appending yorosso\n",
      "Success! Appending chicama\n",
      "Success! Appending billings\n",
      "Success! Appending la grande\n",
      "Success! Appending pospelikha\n",
      "Success! Appending mackay\n",
      "Success! Appending sibiti\n",
      "Success! Appending altona\n",
      "Success! Appending cunha\n",
      "Success! Appending steinkjer\n",
      "Success! Appending montepuez\n",
      "Success! Appending khani\n",
      "Success! Appending balykshi\n",
      "Success! Appending margate\n",
      "Success! Appending georgetown\n",
      "Failed! No temp found for stamsund\n",
      "Success! Appending ossora\n",
      "Success! Appending nichinan\n",
      "Success! Appending great yarmouth\n",
      "Success! Appending uarini\n",
      "Success! Appending epe\n",
      "Failed! No temp found for kpagouda\n",
      "Success! Appending itarema\n",
      "Success! Appending kaeo\n",
      "Success! Appending high level\n",
      "Success! Appending merrill\n",
      "Success! Appending cabo san lucas\n",
      "Success! Appending bozeman\n",
      "Success! Appending aasiaat\n",
      "Success! Appending kihei\n",
      "Success! Appending balkanabat\n",
      "Success! Appending mareeba\n",
      "Success! Appending vangaindrano\n",
      "Success! Appending kasongo-lunda\n",
      "Success! Appending waingapu\n",
      "Success! Appending thunder bay\n",
      "Success! Appending kazerun\n",
      "Success! Appending luderitz\n",
      "Success! Appending kysyl-syr\n",
      "Success! Appending vestmannaeyjar\n",
      "Failed! No temp found for ondorhaan\n",
      "Success! Appending auki\n",
      "Success! Appending santa cruz\n",
      "Success! Appending kalabo\n",
      "Success! Appending port pirie\n",
      "Success! Appending bubaque\n",
      "Success! Appending adwa\n",
      "Success! Appending shamkhal\n",
      "Success! Appending tangermunde\n",
      "Success! Appending yeppoon\n",
      "Success! Appending bukene\n",
      "Success! Appending saint-georges\n",
      "Success! Appending sevsk\n",
      "Success! Appending vierzon\n",
      "Success! Appending cayenne\n",
      "Success! Appending nakamura\n",
      "Failed! No temp found for zlatoustovsk\n",
      "Success! Appending rocha\n",
      "Success! Appending vostok\n",
      "Success! Appending ligourion\n",
      "Success! Appending kaspiysk\n",
      "Success! Appending mangrol\n",
      "Success! Appending lasa\n",
      "Success! Appending kuusamo\n",
      "Success! Appending hovd\n",
      "Success! Appending tarnogskiy gorodok\n",
      "Success! Appending tuatapere\n",
      "Success! Appending batagay\n",
      "Success! Appending osakarovka\n",
      "Success! Appending yabrud\n",
      "Success! Appending el tigre\n",
      "Success! Appending beira\n",
      "Success! Appending kuytun\n",
      "Success! Appending juybar\n",
      "Success! Appending licheng\n",
      "{'coord': {'lon': 113.8284, 'lat': 23.2955}, 'weather': [{'id': 800, 'main': 'Clear', 'description': 'clear sky', 'icon': '01d'}], 'base': 'stations', 'main': {'temp': 56.32, 'feels_like': 51.89, 'temp_min': 55.4, 'temp_max': 59, 'pressure': 1025, 'humidity': 44}, 'visibility': 10000, 'wind': {'speed': 2.24, 'deg': 0}, 'clouds': {'all': 0}, 'dt': 1611881682, 'sys': {'type': 1, 'id': 9620, 'country': 'CN', 'sunrise': 1611875156, 'sunset': 1611914965}, 'timezone': 28800, 'id': 1803791, 'name': 'Licheng', 'cod': 200}\n"
     ]
    }
   ],
   "source": [
    "ok_cities = []\n",
    "ok_lat = []\n",
    "ok_lon = []\n",
    "ok_maxtemp = []\n",
    "ok_mintemp = []\n",
    "ok_humidity = []\n",
    "ok_clouds = []\n",
    "ok_wind = []\n",
    "ok_country = []\n",
    "ok_date = []\n",
    "\n",
    "for city in cities:\n",
    "    response = requests.get(query_url + city).json()\n",
    "    try:\n",
    "        ok_cities.append(response[\"name\"])\n",
    "        ok_lat.append(response[\"coord\"][\"lat\"])\n",
    "        ok_lon.append(response[\"coord\"][\"lon\"])\n",
    "        ok_maxtemp.append(response[\"main\"][\"temp_max\"])\n",
    "        ok_mintemp.append(response[\"main\"][\"temp_min\"])\n",
    "        ok_humidity.append(response[\"main\"][\"humidity\"])\n",
    "        ok_clouds.append(response[\"clouds\"][\"all\"])\n",
    "        ok_wind.append(response[\"wind\"][\"speed\"])\n",
    "        ok_country.append(response[\"sys\"][\"country\"])\n",
    "        ok_date.append(response[\"dt\"])\n",
    "        print(f\"Success! Appending {city}\")\n",
    "           \n",
    "    except KeyError:\n",
    "        print(f\"Failed! No temp found for {city}\")\n",
    "print(response)"
   ]
  },
  {
   "cell_type": "code",
   "execution_count": 6,
   "metadata": {},
   "outputs": [
    {
     "name": "stdout",
     "output_type": "stream",
     "text": [
      "587\n",
      "587\n",
      "587\n",
      "587\n",
      "587\n",
      "587\n",
      "587\n",
      "587\n",
      "587\n",
      "587\n"
     ]
    }
   ],
   "source": [
    "print(len(ok_cities))\n",
    "print(len(ok_lat))\n",
    "print(len(ok_lon))\n",
    "print(len(ok_maxtemp))\n",
    "print(len(ok_mintemp))\n",
    "print(len(ok_humidity))\n",
    "print(len(ok_clouds))\n",
    "print(len(ok_wind))\n",
    "print(len(ok_country))\n",
    "print(len(ok_date))"
   ]
  },
  {
   "cell_type": "markdown",
   "metadata": {},
   "source": [
    "### Convert Raw Data to DataFrame "
   ]
  },
  {
   "cell_type": "code",
   "execution_count": 7,
   "metadata": {},
   "outputs": [
    {
     "data": {
      "text/html": [
       "<div>\n",
       "<style scoped>\n",
       "    .dataframe tbody tr th:only-of-type {\n",
       "        vertical-align: middle;\n",
       "    }\n",
       "\n",
       "    .dataframe tbody tr th {\n",
       "        vertical-align: top;\n",
       "    }\n",
       "\n",
       "    .dataframe thead th {\n",
       "        text-align: right;\n",
       "    }\n",
       "</style>\n",
       "<table border=\"1\" class=\"dataframe\">\n",
       "  <thead>\n",
       "    <tr style=\"text-align: right;\">\n",
       "      <th></th>\n",
       "      <th>City</th>\n",
       "      <th>Latitude</th>\n",
       "      <th>Longitude</th>\n",
       "      <th>Max Temp</th>\n",
       "      <th>Humidity</th>\n",
       "      <th>Cloudiness</th>\n",
       "      <th>Wind Speed</th>\n",
       "      <th>Country</th>\n",
       "      <th>Date</th>\n",
       "    </tr>\n",
       "  </thead>\n",
       "  <tbody>\n",
       "    <tr>\n",
       "      <th>0</th>\n",
       "      <td>Myitkyina</td>\n",
       "      <td>25.3833</td>\n",
       "      <td>97.4000</td>\n",
       "      <td>54.45</td>\n",
       "      <td>59</td>\n",
       "      <td>0</td>\n",
       "      <td>2.86</td>\n",
       "      <td>MM</td>\n",
       "      <td>1611881612</td>\n",
       "    </tr>\n",
       "    <tr>\n",
       "      <th>1</th>\n",
       "      <td>Yellowknife</td>\n",
       "      <td>62.4560</td>\n",
       "      <td>-114.3525</td>\n",
       "      <td>-16.06</td>\n",
       "      <td>89</td>\n",
       "      <td>100</td>\n",
       "      <td>4.05</td>\n",
       "      <td>CA</td>\n",
       "      <td>1611881526</td>\n",
       "    </tr>\n",
       "    <tr>\n",
       "      <th>2</th>\n",
       "      <td>Tasiilaq</td>\n",
       "      <td>65.6145</td>\n",
       "      <td>-37.6368</td>\n",
       "      <td>22.64</td>\n",
       "      <td>96</td>\n",
       "      <td>100</td>\n",
       "      <td>10.54</td>\n",
       "      <td>GL</td>\n",
       "      <td>1611881481</td>\n",
       "    </tr>\n",
       "    <tr>\n",
       "      <th>3</th>\n",
       "      <td>Busselton</td>\n",
       "      <td>-33.6500</td>\n",
       "      <td>115.3333</td>\n",
       "      <td>70.00</td>\n",
       "      <td>73</td>\n",
       "      <td>0</td>\n",
       "      <td>1.01</td>\n",
       "      <td>AU</td>\n",
       "      <td>1611881613</td>\n",
       "    </tr>\n",
       "    <tr>\n",
       "      <th>4</th>\n",
       "      <td>Pevek</td>\n",
       "      <td>69.7008</td>\n",
       "      <td>170.3133</td>\n",
       "      <td>-21.06</td>\n",
       "      <td>87</td>\n",
       "      <td>100</td>\n",
       "      <td>0.85</td>\n",
       "      <td>RU</td>\n",
       "      <td>1611881613</td>\n",
       "    </tr>\n",
       "    <tr>\n",
       "      <th>...</th>\n",
       "      <td>...</td>\n",
       "      <td>...</td>\n",
       "      <td>...</td>\n",
       "      <td>...</td>\n",
       "      <td>...</td>\n",
       "      <td>...</td>\n",
       "      <td>...</td>\n",
       "      <td>...</td>\n",
       "      <td>...</td>\n",
       "    </tr>\n",
       "    <tr>\n",
       "      <th>582</th>\n",
       "      <td>El Tigre</td>\n",
       "      <td>8.8875</td>\n",
       "      <td>-64.2454</td>\n",
       "      <td>77.94</td>\n",
       "      <td>64</td>\n",
       "      <td>40</td>\n",
       "      <td>9.60</td>\n",
       "      <td>VE</td>\n",
       "      <td>1611881409</td>\n",
       "    </tr>\n",
       "    <tr>\n",
       "      <th>583</th>\n",
       "      <td>Beira</td>\n",
       "      <td>-19.8436</td>\n",
       "      <td>34.8389</td>\n",
       "      <td>80.60</td>\n",
       "      <td>89</td>\n",
       "      <td>20</td>\n",
       "      <td>4.61</td>\n",
       "      <td>MZ</td>\n",
       "      <td>1611881682</td>\n",
       "    </tr>\n",
       "    <tr>\n",
       "      <th>584</th>\n",
       "      <td>Kuytun</td>\n",
       "      <td>54.3419</td>\n",
       "      <td>101.5036</td>\n",
       "      <td>-29.96</td>\n",
       "      <td>83</td>\n",
       "      <td>100</td>\n",
       "      <td>3.74</td>\n",
       "      <td>RU</td>\n",
       "      <td>1611881682</td>\n",
       "    </tr>\n",
       "    <tr>\n",
       "      <th>585</th>\n",
       "      <td>Jūybār</td>\n",
       "      <td>36.6412</td>\n",
       "      <td>52.9124</td>\n",
       "      <td>53.76</td>\n",
       "      <td>46</td>\n",
       "      <td>0</td>\n",
       "      <td>4.23</td>\n",
       "      <td>IR</td>\n",
       "      <td>1611881682</td>\n",
       "    </tr>\n",
       "    <tr>\n",
       "      <th>586</th>\n",
       "      <td>Licheng</td>\n",
       "      <td>23.2955</td>\n",
       "      <td>113.8284</td>\n",
       "      <td>59.00</td>\n",
       "      <td>44</td>\n",
       "      <td>0</td>\n",
       "      <td>2.24</td>\n",
       "      <td>CN</td>\n",
       "      <td>1611881682</td>\n",
       "    </tr>\n",
       "  </tbody>\n",
       "</table>\n",
       "<p>587 rows × 9 columns</p>\n",
       "</div>"
      ],
      "text/plain": [
       "            City  Latitude  Longitude  Max Temp  Humidity  Cloudiness  \\\n",
       "0      Myitkyina   25.3833    97.4000     54.45        59           0   \n",
       "1    Yellowknife   62.4560  -114.3525    -16.06        89         100   \n",
       "2       Tasiilaq   65.6145   -37.6368     22.64        96         100   \n",
       "3      Busselton  -33.6500   115.3333     70.00        73           0   \n",
       "4          Pevek   69.7008   170.3133    -21.06        87         100   \n",
       "..           ...       ...        ...       ...       ...         ...   \n",
       "582     El Tigre    8.8875   -64.2454     77.94        64          40   \n",
       "583        Beira  -19.8436    34.8389     80.60        89          20   \n",
       "584       Kuytun   54.3419   101.5036    -29.96        83         100   \n",
       "585       Jūybār   36.6412    52.9124     53.76        46           0   \n",
       "586      Licheng   23.2955   113.8284     59.00        44           0   \n",
       "\n",
       "     Wind Speed Country        Date  \n",
       "0          2.86      MM  1611881612  \n",
       "1          4.05      CA  1611881526  \n",
       "2         10.54      GL  1611881481  \n",
       "3          1.01      AU  1611881613  \n",
       "4          0.85      RU  1611881613  \n",
       "..          ...     ...         ...  \n",
       "582        9.60      VE  1611881409  \n",
       "583        4.61      MZ  1611881682  \n",
       "584        3.74      RU  1611881682  \n",
       "585        4.23      IR  1611881682  \n",
       "586        2.24      CN  1611881682  \n",
       "\n",
       "[587 rows x 9 columns]"
      ]
     },
     "execution_count": 7,
     "metadata": {},
     "output_type": "execute_result"
    }
   ],
   "source": [
    "weather_dict = {\"City\": ok_cities, \"Latitude\": ok_lat, \"Longitude\": ok_lon, \"Max Temp\": ok_maxtemp, \n",
    "                \"Humidity\": ok_humidity, \"Cloudiness\": ok_clouds, \"Wind Speed\": ok_wind, \n",
    "                \"Country\": ok_country, \"Date\": ok_date}\n",
    "\n",
    "weather_df = pd.DataFrame(weather_dict)\n",
    "weather_df"
   ]
  },
  {
   "cell_type": "markdown",
   "metadata": {},
   "source": [
    "### Inspect data and remove cities where the humidty is > 100%"
   ]
  },
  {
   "cell_type": "code",
   "execution_count": 8,
   "metadata": {},
   "outputs": [
    {
     "data": {
      "text/html": [
       "<div>\n",
       "<style scoped>\n",
       "    .dataframe tbody tr th:only-of-type {\n",
       "        vertical-align: middle;\n",
       "    }\n",
       "\n",
       "    .dataframe tbody tr th {\n",
       "        vertical-align: top;\n",
       "    }\n",
       "\n",
       "    .dataframe thead th {\n",
       "        text-align: right;\n",
       "    }\n",
       "</style>\n",
       "<table border=\"1\" class=\"dataframe\">\n",
       "  <thead>\n",
       "    <tr style=\"text-align: right;\">\n",
       "      <th></th>\n",
       "      <th>City</th>\n",
       "      <th>Latitude</th>\n",
       "      <th>Longitude</th>\n",
       "      <th>Max Temp</th>\n",
       "      <th>Humidity</th>\n",
       "      <th>Cloudiness</th>\n",
       "      <th>Wind Speed</th>\n",
       "      <th>Country</th>\n",
       "      <th>Date</th>\n",
       "    </tr>\n",
       "  </thead>\n",
       "  <tbody>\n",
       "    <tr>\n",
       "      <th>0</th>\n",
       "      <td>Myitkyina</td>\n",
       "      <td>25.3833</td>\n",
       "      <td>97.4000</td>\n",
       "      <td>54.45</td>\n",
       "      <td>59</td>\n",
       "      <td>0</td>\n",
       "      <td>2.86</td>\n",
       "      <td>MM</td>\n",
       "      <td>1611881612</td>\n",
       "    </tr>\n",
       "    <tr>\n",
       "      <th>1</th>\n",
       "      <td>Yellowknife</td>\n",
       "      <td>62.4560</td>\n",
       "      <td>-114.3525</td>\n",
       "      <td>-16.06</td>\n",
       "      <td>89</td>\n",
       "      <td>100</td>\n",
       "      <td>4.05</td>\n",
       "      <td>CA</td>\n",
       "      <td>1611881526</td>\n",
       "    </tr>\n",
       "    <tr>\n",
       "      <th>2</th>\n",
       "      <td>Tasiilaq</td>\n",
       "      <td>65.6145</td>\n",
       "      <td>-37.6368</td>\n",
       "      <td>22.64</td>\n",
       "      <td>96</td>\n",
       "      <td>100</td>\n",
       "      <td>10.54</td>\n",
       "      <td>GL</td>\n",
       "      <td>1611881481</td>\n",
       "    </tr>\n",
       "    <tr>\n",
       "      <th>3</th>\n",
       "      <td>Busselton</td>\n",
       "      <td>-33.6500</td>\n",
       "      <td>115.3333</td>\n",
       "      <td>70.00</td>\n",
       "      <td>73</td>\n",
       "      <td>0</td>\n",
       "      <td>1.01</td>\n",
       "      <td>AU</td>\n",
       "      <td>1611881613</td>\n",
       "    </tr>\n",
       "    <tr>\n",
       "      <th>4</th>\n",
       "      <td>Pevek</td>\n",
       "      <td>69.7008</td>\n",
       "      <td>170.3133</td>\n",
       "      <td>-21.06</td>\n",
       "      <td>87</td>\n",
       "      <td>100</td>\n",
       "      <td>0.85</td>\n",
       "      <td>RU</td>\n",
       "      <td>1611881613</td>\n",
       "    </tr>\n",
       "    <tr>\n",
       "      <th>...</th>\n",
       "      <td>...</td>\n",
       "      <td>...</td>\n",
       "      <td>...</td>\n",
       "      <td>...</td>\n",
       "      <td>...</td>\n",
       "      <td>...</td>\n",
       "      <td>...</td>\n",
       "      <td>...</td>\n",
       "      <td>...</td>\n",
       "    </tr>\n",
       "    <tr>\n",
       "      <th>582</th>\n",
       "      <td>El Tigre</td>\n",
       "      <td>8.8875</td>\n",
       "      <td>-64.2454</td>\n",
       "      <td>77.94</td>\n",
       "      <td>64</td>\n",
       "      <td>40</td>\n",
       "      <td>9.60</td>\n",
       "      <td>VE</td>\n",
       "      <td>1611881409</td>\n",
       "    </tr>\n",
       "    <tr>\n",
       "      <th>583</th>\n",
       "      <td>Beira</td>\n",
       "      <td>-19.8436</td>\n",
       "      <td>34.8389</td>\n",
       "      <td>80.60</td>\n",
       "      <td>89</td>\n",
       "      <td>20</td>\n",
       "      <td>4.61</td>\n",
       "      <td>MZ</td>\n",
       "      <td>1611881682</td>\n",
       "    </tr>\n",
       "    <tr>\n",
       "      <th>584</th>\n",
       "      <td>Kuytun</td>\n",
       "      <td>54.3419</td>\n",
       "      <td>101.5036</td>\n",
       "      <td>-29.96</td>\n",
       "      <td>83</td>\n",
       "      <td>100</td>\n",
       "      <td>3.74</td>\n",
       "      <td>RU</td>\n",
       "      <td>1611881682</td>\n",
       "    </tr>\n",
       "    <tr>\n",
       "      <th>585</th>\n",
       "      <td>Jūybār</td>\n",
       "      <td>36.6412</td>\n",
       "      <td>52.9124</td>\n",
       "      <td>53.76</td>\n",
       "      <td>46</td>\n",
       "      <td>0</td>\n",
       "      <td>4.23</td>\n",
       "      <td>IR</td>\n",
       "      <td>1611881682</td>\n",
       "    </tr>\n",
       "    <tr>\n",
       "      <th>586</th>\n",
       "      <td>Licheng</td>\n",
       "      <td>23.2955</td>\n",
       "      <td>113.8284</td>\n",
       "      <td>59.00</td>\n",
       "      <td>44</td>\n",
       "      <td>0</td>\n",
       "      <td>2.24</td>\n",
       "      <td>CN</td>\n",
       "      <td>1611881682</td>\n",
       "    </tr>\n",
       "  </tbody>\n",
       "</table>\n",
       "<p>574 rows × 9 columns</p>\n",
       "</div>"
      ],
      "text/plain": [
       "            City  Latitude  Longitude  Max Temp  Humidity  Cloudiness  \\\n",
       "0      Myitkyina   25.3833    97.4000     54.45        59           0   \n",
       "1    Yellowknife   62.4560  -114.3525    -16.06        89         100   \n",
       "2       Tasiilaq   65.6145   -37.6368     22.64        96         100   \n",
       "3      Busselton  -33.6500   115.3333     70.00        73           0   \n",
       "4          Pevek   69.7008   170.3133    -21.06        87         100   \n",
       "..           ...       ...        ...       ...       ...         ...   \n",
       "582     El Tigre    8.8875   -64.2454     77.94        64          40   \n",
       "583        Beira  -19.8436    34.8389     80.60        89          20   \n",
       "584       Kuytun   54.3419   101.5036    -29.96        83         100   \n",
       "585       Jūybār   36.6412    52.9124     53.76        46           0   \n",
       "586      Licheng   23.2955   113.8284     59.00        44           0   \n",
       "\n",
       "     Wind Speed Country        Date  \n",
       "0          2.86      MM  1611881612  \n",
       "1          4.05      CA  1611881526  \n",
       "2         10.54      GL  1611881481  \n",
       "3          1.01      AU  1611881613  \n",
       "4          0.85      RU  1611881613  \n",
       "..          ...     ...         ...  \n",
       "582        9.60      VE  1611881409  \n",
       "583        4.61      MZ  1611881682  \n",
       "584        3.74      RU  1611881682  \n",
       "585        4.23      IR  1611881682  \n",
       "586        2.24      CN  1611881682  \n",
       "\n",
       "[574 rows x 9 columns]"
      ]
     },
     "execution_count": 8,
     "metadata": {},
     "output_type": "execute_result"
    }
   ],
   "source": [
    "low_hum = pd.DataFrame(weather_df[weather_df[\"Humidity\"]< 100])\n",
    "low_hum"
   ]
  },
  {
   "cell_type": "code",
   "execution_count": 44,
   "metadata": {},
   "outputs": [
    {
     "data": {
      "text/plain": [
       "'01/28/21'"
      ]
     },
     "execution_count": 44,
     "metadata": {},
     "output_type": "execute_result"
    }
   ],
   "source": [
    "date = dt.date.today().strftime(\"%m/%d/%y\")\n",
    "date"
   ]
  },
  {
   "cell_type": "markdown",
   "metadata": {},
   "source": [
    "## Plotting the Data "
   ]
  },
  {
   "cell_type": "markdown",
   "metadata": {},
   "source": [
    "### Latitude vs. Temperature Plot "
   ]
  },
  {
   "cell_type": "code",
   "execution_count": 34,
   "metadata": {},
   "outputs": [
    {
     "data": {
      "text/plain": [
       "Text(0, 0.5, 'Temperature')"
      ]
     },
     "execution_count": 34,
     "metadata": {},
     "output_type": "execute_result"
    },
    {
     "data": {
      "image/png": "[encoded data removed]",
      "text/plain": [
       "<Figure size 432x288 with 1 Axes>"
      ]
     },
     "metadata": {
      "needs_background": "light"
     },
     "output_type": "display_data"
    }
   ],
   "source": [
    "plot_lat = low_hum['Latitude']\n",
    "plot_temp = low_hum[\"Max Temp\"]\n",
    "\n",
    "plt.scatter(plot_lat, plot_temp, marker=\"o\", facecolors = \"blue\", edgecolors=\"black\", \n",
    "            alpha=.99)\n",
    "\n",
    "plt.grid(color=\"grey\", linestyle=\"-\", linewidth=1)\n",
    "plt.title(f\"City Latitude vs. Max Temperature {date}\")\n",
    "plt.xlabel(\"Latitude\")\n",
    "plt.ylabel(\"Temperature\")\n"
   ]
  },
  {
   "cell_type": "markdown",
   "metadata": {},
   "source": [
    "### Latitude vs. Humidty Plot"
   ]
  },
  {
   "cell_type": "code",
   "execution_count": 35,
   "metadata": {},
   "outputs": [
    {
     "data": {
      "text/plain": [
       "Text(0, 0.5, 'Humidity')"
      ]
     },
     "execution_count": 35,
     "metadata": {},
     "output_type": "execute_result"
    },
    {
     "data": {
      "image/png": "[encoded data removed]",
      "text/plain": [
       "<Figure size 432x288 with 1 Axes>"
      ]
     },
     "metadata": {
      "needs_background": "light"
     },
     "output_type": "display_data"
    }
   ],
   "source": [
    "plot_lat = low_hum['Latitude']\n",
    "plot_humidity = low_hum[\"Humidity\"]\n",
    "\n",
    "plt.scatter(plot_lat, plot_humidity, marker=\"o\", facecolors = \"blue\", edgecolors=\"black\", \n",
    "            alpha=.99)\n",
    "\n",
    "plt.grid(color=\"grey\", linestyle=\"-\", linewidth=1)\n",
    "plt.title(f\"City Latitude vs. Humidity {date}\")\n",
    "plt.xlabel(\"Latitude\")\n",
    "plt.ylabel(\"Humidity\")"
   ]
  },
  {
   "cell_type": "markdown",
   "metadata": {},
   "source": [
    "### Latitude vs. Cloudiness Plot"
   ]
  },
  {
   "cell_type": "code",
   "execution_count": 36,
   "metadata": {},
   "outputs": [
    {
     "data": {
      "text/plain": [
       "Text(0, 0.5, 'Humidity')"
      ]
     },
     "execution_count": 36,
     "metadata": {},
     "output_type": "execute_result"
    },
    {
     "data": {
      "image/png": "[encoded data removed]",
      "text/plain": [
       "<Figure size 432x288 with 1 Axes>"
      ]
     },
     "metadata": {
      "needs_background": "light"
     },
     "output_type": "display_data"
    }
   ],
   "source": [
    "plot_lat = low_hum['Latitude']\n",
    "plot_cloud = low_hum[\"Cloudiness\"]\n",
    "\n",
    "plt.scatter(plot_lat, plot_cloud, marker=\"o\", facecolors = \"blue\", edgecolors=\"black\", \n",
    "            alpha=.99)\n",
    "\n",
    "plt.grid(color=\"grey\", linestyle=\"-\", linewidth=.5)\n",
    "plt.title(f\"City Latitude vs. Cloudiness {date}\")\n",
    "plt.xlabel(\"Latitude\")\n",
    "plt.ylabel(\"Humidity\")"
   ]
  },
  {
   "cell_type": "markdown",
   "metadata": {},
   "source": [
    "###  Latitude vs. Wind Speed Plot"
   ]
  },
  {
   "cell_type": "code",
   "execution_count": 37,
   "metadata": {},
   "outputs": [
    {
     "data": {
      "text/plain": [
       "Text(0, 0.5, 'Humidity')"
      ]
     },
     "execution_count": 37,
     "metadata": {},
     "output_type": "execute_result"
    },
    {
     "data": {
      "image/png": "[encoded data removed]",
      "text/plain": [
       "<Figure size 432x288 with 1 Axes>"
      ]
     },
     "metadata": {
      "needs_background": "light"
     },
     "output_type": "display_data"
    }
   ],
   "source": [
    "plot_lat = low_hum['Latitude']\n",
    "plot_wind = low_hum[\"Wind Speed\"]\n",
    "\n",
    "plt.scatter(plot_lat, plot_wind, marker=\"o\", facecolors = \"blue\", edgecolors=\"black\", \n",
    "            alpha=.99)\n",
    "\n",
    "plt.grid(color=\"grey\", linestyle=\"-\", linewidth=.5)\n",
    "plt.title(f\"City Latitude vs. Wind Speed {date}\")\n",
    "plt.xlabel(\"Latitude\")\n",
    "plt.ylabel(\"Humidity\")"
   ]
  },
  {
   "cell_type": "markdown",
   "metadata": {},
   "source": [
    "## Linear Regression"
   ]
  },
  {
   "cell_type": "code",
   "execution_count": 13,
   "metadata": {
    "scrolled": true
   },
   "outputs": [
    {
     "data": {
      "text/html": [
       "<div>\n",
       "<style scoped>\n",
       "    .dataframe tbody tr th:only-of-type {\n",
       "        vertical-align: middle;\n",
       "    }\n",
       "\n",
       "    .dataframe tbody tr th {\n",
       "        vertical-align: top;\n",
       "    }\n",
       "\n",
       "    .dataframe thead th {\n",
       "        text-align: right;\n",
       "    }\n",
       "</style>\n",
       "<table border=\"1\" class=\"dataframe\">\n",
       "  <thead>\n",
       "    <tr style=\"text-align: right;\">\n",
       "      <th></th>\n",
       "      <th>City</th>\n",
       "      <th>Latitude</th>\n",
       "      <th>Longitude</th>\n",
       "      <th>Max Temp</th>\n",
       "      <th>Humidity</th>\n",
       "      <th>Cloudiness</th>\n",
       "      <th>Wind Speed</th>\n",
       "      <th>Country</th>\n",
       "      <th>Date</th>\n",
       "    </tr>\n",
       "  </thead>\n",
       "  <tbody>\n",
       "    <tr>\n",
       "      <th>0</th>\n",
       "      <td>Myitkyina</td>\n",
       "      <td>25.3833</td>\n",
       "      <td>97.4000</td>\n",
       "      <td>54.45</td>\n",
       "      <td>59</td>\n",
       "      <td>0</td>\n",
       "      <td>2.86</td>\n",
       "      <td>MM</td>\n",
       "      <td>1611881612</td>\n",
       "    </tr>\n",
       "    <tr>\n",
       "      <th>1</th>\n",
       "      <td>Yellowknife</td>\n",
       "      <td>62.4560</td>\n",
       "      <td>-114.3525</td>\n",
       "      <td>-16.06</td>\n",
       "      <td>89</td>\n",
       "      <td>100</td>\n",
       "      <td>4.05</td>\n",
       "      <td>CA</td>\n",
       "      <td>1611881526</td>\n",
       "    </tr>\n",
       "    <tr>\n",
       "      <th>2</th>\n",
       "      <td>Tasiilaq</td>\n",
       "      <td>65.6145</td>\n",
       "      <td>-37.6368</td>\n",
       "      <td>22.64</td>\n",
       "      <td>96</td>\n",
       "      <td>100</td>\n",
       "      <td>10.54</td>\n",
       "      <td>GL</td>\n",
       "      <td>1611881481</td>\n",
       "    </tr>\n",
       "    <tr>\n",
       "      <th>4</th>\n",
       "      <td>Pevek</td>\n",
       "      <td>69.7008</td>\n",
       "      <td>170.3133</td>\n",
       "      <td>-21.06</td>\n",
       "      <td>87</td>\n",
       "      <td>100</td>\n",
       "      <td>0.85</td>\n",
       "      <td>RU</td>\n",
       "      <td>1611881613</td>\n",
       "    </tr>\n",
       "    <tr>\n",
       "      <th>5</th>\n",
       "      <td>Esna</td>\n",
       "      <td>25.2934</td>\n",
       "      <td>32.5540</td>\n",
       "      <td>50.00</td>\n",
       "      <td>71</td>\n",
       "      <td>0</td>\n",
       "      <td>6.78</td>\n",
       "      <td>EG</td>\n",
       "      <td>1611881613</td>\n",
       "    </tr>\n",
       "  </tbody>\n",
       "</table>\n",
       "</div>"
      ],
      "text/plain": [
       "          City  Latitude  Longitude  Max Temp  Humidity  Cloudiness  \\\n",
       "0    Myitkyina   25.3833    97.4000     54.45        59           0   \n",
       "1  Yellowknife   62.4560  -114.3525    -16.06        89         100   \n",
       "2     Tasiilaq   65.6145   -37.6368     22.64        96         100   \n",
       "4        Pevek   69.7008   170.3133    -21.06        87         100   \n",
       "5         Esna   25.2934    32.5540     50.00        71           0   \n",
       "\n",
       "   Wind Speed Country        Date  \n",
       "0        2.86      MM  1611881612  \n",
       "1        4.05      CA  1611881526  \n",
       "2       10.54      GL  1611881481  \n",
       "4        0.85      RU  1611881613  \n",
       "5        6.78      EG  1611881613  "
      ]
     },
     "execution_count": 13,
     "metadata": {},
     "output_type": "execute_result"
    }
   ],
   "source": [
    "north_hem = pd.DataFrame(low_hum[low_hum[\"Latitude\"]> 0])\n",
    "north_hem.head()"
   ]
  },
  {
   "cell_type": "code",
   "execution_count": 14,
   "metadata": {},
   "outputs": [],
   "source": [
    "north_lat = north_hem[\"Latitude\"]\n",
    "north_maxtemp = north_hem[\"Max Temp\"]\n",
    "north_humid = north_hem[\"Humidity\"]\n",
    "north_cloud = north_hem[\"Cloudiness\"]\n",
    "north_wind = north_hem[\"Wind Speed\"]"
   ]
  },
  {
   "cell_type": "code",
   "execution_count": 15,
   "metadata": {},
   "outputs": [
    {
     "data": {
      "text/html": [
       "<div>\n",
       "<style scoped>\n",
       "    .dataframe tbody tr th:only-of-type {\n",
       "        vertical-align: middle;\n",
       "    }\n",
       "\n",
       "    .dataframe tbody tr th {\n",
       "        vertical-align: top;\n",
       "    }\n",
       "\n",
       "    .dataframe thead th {\n",
       "        text-align: right;\n",
       "    }\n",
       "</style>\n",
       "<table border=\"1\" class=\"dataframe\">\n",
       "  <thead>\n",
       "    <tr style=\"text-align: right;\">\n",
       "      <th></th>\n",
       "      <th>City</th>\n",
       "      <th>Latitude</th>\n",
       "      <th>Longitude</th>\n",
       "      <th>Max Temp</th>\n",
       "      <th>Humidity</th>\n",
       "      <th>Cloudiness</th>\n",
       "      <th>Wind Speed</th>\n",
       "      <th>Country</th>\n",
       "      <th>Date</th>\n",
       "    </tr>\n",
       "  </thead>\n",
       "  <tbody>\n",
       "    <tr>\n",
       "      <th>3</th>\n",
       "      <td>Busselton</td>\n",
       "      <td>-33.6500</td>\n",
       "      <td>115.3333</td>\n",
       "      <td>70.00</td>\n",
       "      <td>73</td>\n",
       "      <td>0</td>\n",
       "      <td>1.01</td>\n",
       "      <td>AU</td>\n",
       "      <td>1611881613</td>\n",
       "    </tr>\n",
       "    <tr>\n",
       "      <th>7</th>\n",
       "      <td>Saldanha</td>\n",
       "      <td>-33.0117</td>\n",
       "      <td>17.9442</td>\n",
       "      <td>57.20</td>\n",
       "      <td>77</td>\n",
       "      <td>0</td>\n",
       "      <td>4.61</td>\n",
       "      <td>ZA</td>\n",
       "      <td>1611881613</td>\n",
       "    </tr>\n",
       "    <tr>\n",
       "      <th>10</th>\n",
       "      <td>Vaini</td>\n",
       "      <td>-21.2000</td>\n",
       "      <td>-175.2000</td>\n",
       "      <td>80.33</td>\n",
       "      <td>83</td>\n",
       "      <td>100</td>\n",
       "      <td>29.08</td>\n",
       "      <td>TO</td>\n",
       "      <td>1611881614</td>\n",
       "    </tr>\n",
       "    <tr>\n",
       "      <th>15</th>\n",
       "      <td>Cidreira</td>\n",
       "      <td>-30.1811</td>\n",
       "      <td>-50.2056</td>\n",
       "      <td>72.41</td>\n",
       "      <td>94</td>\n",
       "      <td>100</td>\n",
       "      <td>14.76</td>\n",
       "      <td>BR</td>\n",
       "      <td>1611881614</td>\n",
       "    </tr>\n",
       "    <tr>\n",
       "      <th>16</th>\n",
       "      <td>Atuona</td>\n",
       "      <td>-9.8000</td>\n",
       "      <td>-139.0333</td>\n",
       "      <td>78.94</td>\n",
       "      <td>74</td>\n",
       "      <td>14</td>\n",
       "      <td>18.59</td>\n",
       "      <td>PF</td>\n",
       "      <td>1611881614</td>\n",
       "    </tr>\n",
       "  </tbody>\n",
       "</table>\n",
       "</div>"
      ],
      "text/plain": [
       "         City  Latitude  Longitude  Max Temp  Humidity  Cloudiness  \\\n",
       "3   Busselton  -33.6500   115.3333     70.00        73           0   \n",
       "7    Saldanha  -33.0117    17.9442     57.20        77           0   \n",
       "10      Vaini  -21.2000  -175.2000     80.33        83         100   \n",
       "15   Cidreira  -30.1811   -50.2056     72.41        94         100   \n",
       "16     Atuona   -9.8000  -139.0333     78.94        74          14   \n",
       "\n",
       "    Wind Speed Country        Date  \n",
       "3         1.01      AU  1611881613  \n",
       "7         4.61      ZA  1611881613  \n",
       "10       29.08      TO  1611881614  \n",
       "15       14.76      BR  1611881614  \n",
       "16       18.59      PF  1611881614  "
      ]
     },
     "execution_count": 15,
     "metadata": {},
     "output_type": "execute_result"
    }
   ],
   "source": [
    "south_hem = pd.DataFrame(low_hum[low_hum[\"Latitude\"]< 0])\n",
    "south_hem.head()"
   ]
  },
  {
   "cell_type": "code",
   "execution_count": 16,
   "metadata": {},
   "outputs": [],
   "source": [
    "south_lat = south_hem[\"Latitude\"]\n",
    "south_maxtemp = south_hem[\"Max Temp\"]\n",
    "south_humid = south_hem[\"Humidity\"]\n",
    "south_cloud = south_hem[\"Cloudiness\"]\n",
    "south_wind = south_hem[\"Wind Speed\"]"
   ]
  },
  {
   "cell_type": "markdown",
   "metadata": {},
   "source": [
    "### Northern Hemisphere: Max Temp vs. Latitude Linear Regression "
   ]
  },
  {
   "cell_type": "code",
   "execution_count": 17,
   "metadata": {},
   "outputs": [
    {
     "name": "stdout",
     "output_type": "stream",
     "text": [
      "The r-value is -0.84\n"
     ]
    },
    {
     "data": {
      "image/png": "[encoded data removed]",
      "text/plain": [
       "<Figure size 432x288 with 1 Axes>"
      ]
     },
     "metadata": {
      "needs_background": "light"
     },
     "output_type": "display_data"
    }
   ],
   "source": [
    "correlation = st.pearsonr(north_lat, north_maxtemp)\n",
    "(slope, intercept, rvalue, pvalue, stderr) = st.linregress(north_lat, north_maxtemp)\n",
    "regress_values = north_lat * slope + intercept\n",
    "line_eq = \"y = \" + str(round(slope,2)) + \"x + \" + str(round(intercept,2))\n",
    "plt.scatter(north_lat, north_maxtemp)\n",
    "plt.plot(north_lat,regress_values, \"r-\")\n",
    "plt.annotate(line_eq,(0,50),fontsize=15,color=\"red\")\n",
    "plt.xlabel('Latitude')\n",
    "plt.ylabel('Max Temp')\n",
    "plt.title(\"Northern Hemisphere: Latitude vs. Max Temp\")\n",
    "print(f\"The r-value is {round(correlation[0],2)}\")\n",
    "plt.show()"
   ]
  },
  {
   "cell_type": "markdown",
   "metadata": {},
   "source": [
    "### Southern Hemisphere: Max Temp vs. Latitude Linear Regression "
   ]
  },
  {
   "cell_type": "code",
   "execution_count": 18,
   "metadata": {},
   "outputs": [
    {
     "name": "stdout",
     "output_type": "stream",
     "text": [
      "The r-value is 0.59\n"
     ]
    },
    {
     "data": {
      "image/png": "[encoded data removed]",
      "text/plain": [
       "<Figure size 432x288 with 1 Axes>"
      ]
     },
     "metadata": {
      "needs_background": "light"
     },
     "output_type": "display_data"
    }
   ],
   "source": [
    "correlation = st.pearsonr(south_lat, south_maxtemp)\n",
    "(slope, intercept, rvalue, pvalue, stderr) = st.linregress(south_lat, south_maxtemp)\n",
    "regress_values = south_lat * slope + intercept\n",
    "line_eq = \"y = \" + str(round(slope,2)) + \"x + \" + str(round(intercept,2))\n",
    "plt.scatter(south_lat, south_maxtemp)\n",
    "plt.plot(south_lat,regress_values, \"r-\")\n",
    "plt.annotate(line_eq,(0,50),fontsize=15,color=\"red\")\n",
    "plt.xlabel('Latitude')\n",
    "plt.ylabel('Max Temp')\n",
    "plt.title(\"Southern Hemisphere: Latitude vs. Max Temp\")\n",
    "print(f\"The r-value is {round(correlation[0],2)}\")\n",
    "plt.show()"
   ]
  },
  {
   "cell_type": "markdown",
   "metadata": {},
   "source": [
    "### Northern Hemisphere: Humidty (%) vs. Latitude Linear Regression "
   ]
  },
  {
   "cell_type": "code",
   "execution_count": 19,
   "metadata": {},
   "outputs": [
    {
     "name": "stdout",
     "output_type": "stream",
     "text": [
      "The r-value is 0.42\n"
     ]
    },
    {
     "data": {
      "image/png": "[encoded data removed]",
      "text/plain": [
       "<Figure size 432x288 with 1 Axes>"
      ]
     },
     "metadata": {
      "needs_background": "light"
     },
     "output_type": "display_data"
    }
   ],
   "source": [
    "correlation = st.pearsonr(north_lat, north_humid)\n",
    "(slope, intercept, rvalue, pvalue, stderr) = st.linregress(north_lat, north_humid)\n",
    "regress_values = north_lat * slope + intercept\n",
    "line_eq = \"y = \" + str(round(slope,2)) + \"x + \" + str(round(intercept,2))\n",
    "plt.scatter(north_lat, north_humid)\n",
    "plt.plot(north_lat,regress_values, \"r-\")\n",
    "plt.annotate(line_eq,(0,50),fontsize=15,color=\"red\")\n",
    "plt.xlabel('Latitude')\n",
    "plt.ylabel('Humidity')\n",
    "plt.title(\"Northern Latitude vs. Humidity\")\n",
    "print(f\"The r-value is {round(correlation[0],2)}\")\n",
    "plt.show()"
   ]
  },
  {
   "cell_type": "markdown",
   "metadata": {},
   "source": [
    "### Southern Hemisphere: Humidty (%) vs. Latitude Linear Regression "
   ]
  },
  {
   "cell_type": "code",
   "execution_count": 20,
   "metadata": {},
   "outputs": [
    {
     "name": "stdout",
     "output_type": "stream",
     "text": [
      "The r-value is 0.37\n"
     ]
    },
    {
     "data": {
      "image/png": "[encoded data removed]",
      "text/plain": [
       "<Figure size 432x288 with 1 Axes>"
      ]
     },
     "metadata": {
      "needs_background": "light"
     },
     "output_type": "display_data"
    }
   ],
   "source": [
    "correlation = st.pearsonr(south_lat, south_humid)\n",
    "(slope, intercept, rvalue, pvalue, stderr) = st.linregress(south_lat, south_humid)\n",
    "regress_values = south_lat * slope + intercept\n",
    "line_eq = \"y = \" + str(round(slope,2)) + \"x + \" + str(round(intercept,2))\n",
    "plt.scatter(south_lat, south_humid)\n",
    "plt.plot(south_lat,regress_values, \"r-\")\n",
    "plt.annotate(line_eq,(0,50),fontsize=15,color=\"red\")\n",
    "plt.xlabel('Latitude')\n",
    "plt.ylabel('Humidity')\n",
    "plt.title(\"Southern Hemisphere: Latitude vs. Humidity\")\n",
    "print(f\"The r-value is {round(correlation[0],2)}\")\n",
    "plt.show()"
   ]
  },
  {
   "cell_type": "markdown",
   "metadata": {},
   "source": [
    "### Northern Hemisphere: Cloudiness (%) vs. Latitude Linear Regression "
   ]
  },
  {
   "cell_type": "code",
   "execution_count": 21,
   "metadata": {},
   "outputs": [
    {
     "name": "stdout",
     "output_type": "stream",
     "text": [
      "The r-value is 0.28\n"
     ]
    },
    {
     "data": {
      "image/png": "[encoded data removed]",
      "text/plain": [
       "<Figure size 432x288 with 1 Axes>"
      ]
     },
     "metadata": {
      "needs_background": "light"
     },
     "output_type": "display_data"
    }
   ],
   "source": [
    "correlation = st.pearsonr(north_lat, north_cloud)\n",
    "(slope, intercept, rvalue, pvalue, stderr) = st.linregress(north_lat, north_cloud)\n",
    "regress_values = north_lat * slope + intercept\n",
    "line_eq = \"y = \" + str(round(slope,2)) + \"x + \" + str(round(intercept,2))\n",
    "plt.scatter(north_lat, north_cloud)\n",
    "plt.plot(north_lat,regress_values, \"r-\")\n",
    "plt.annotate(line_eq,(0,50),fontsize=15,color=\"red\")\n",
    "plt.xlabel('Latitude')\n",
    "plt.ylabel('Cloudiness')\n",
    "plt.title(\"Latitude vs. Cloudiness\")\n",
    "print(f\"The r-value is {round(correlation[0],2)}\")\n",
    "plt.show()"
   ]
  },
  {
   "cell_type": "markdown",
   "metadata": {},
   "source": [
    "### Southern Hemisphere: Cloudiness (%) vs. Latitude Linear Regression "
   ]
  },
  {
   "cell_type": "code",
   "execution_count": 22,
   "metadata": {},
   "outputs": [
    {
     "name": "stdout",
     "output_type": "stream",
     "text": [
      "The r-value is 0.17\n"
     ]
    },
    {
     "data": {
      "image/png": "[encoded data removed]",
      "text/plain": [
       "<Figure size 432x288 with 1 Axes>"
      ]
     },
     "metadata": {
      "needs_background": "light"
     },
     "output_type": "display_data"
    }
   ],
   "source": [
    "correlation = st.pearsonr(south_lat, south_cloud)\n",
    "(slope, intercept, rvalue, pvalue, stderr) = st.linregress(south_lat, south_cloud)\n",
    "regress_values = south_lat * slope + intercept\n",
    "line_eq = \"y = \" + str(round(slope,2)) + \"x + \" + str(round(intercept,2))\n",
    "plt.scatter(south_lat, south_cloud)\n",
    "plt.plot(south_lat,regress_values, \"r-\")\n",
    "plt.annotate(line_eq,(0,50),fontsize=15,color=\"red\")\n",
    "plt.xlabel('Latitude')\n",
    "plt.ylabel('Cloudiness')\n",
    "plt.title(\"Southern Hemisphere Latitude vs. Cloudiness\")\n",
    "print(f\"The r-value is {round(correlation[0],2)}\")\n",
    "plt.show()"
   ]
  },
  {
   "cell_type": "markdown",
   "metadata": {},
   "source": [
    "### Northern Hemisphere: Wind Speed (mph) vs. Latitude Linear Regression "
   ]
  },
  {
   "cell_type": "code",
   "execution_count": 23,
   "metadata": {},
   "outputs": [
    {
     "name": "stdout",
     "output_type": "stream",
     "text": [
      "The r-value is 0.02\n"
     ]
    },
    {
     "data": {
      "image/png": "[encoded data removed]",
      "text/plain": [
       "<Figure size 432x288 with 1 Axes>"
      ]
     },
     "metadata": {
      "needs_background": "light"
     },
     "output_type": "display_data"
    }
   ],
   "source": [
    "correlation = st.pearsonr(north_lat, north_wind)\n",
    "(slope, intercept, rvalue, pvalue, stderr) = st.linregress(north_lat, north_wind)\n",
    "regress_values = north_lat * slope + intercept\n",
    "line_eq = \"y = \" + str(round(slope,2)) + \"x + \" + str(round(intercept,2))\n",
    "plt.scatter(north_lat, north_wind)\n",
    "plt.plot(north_lat,regress_values, \"r-\")\n",
    "# plt.annotate(line_eq,(0,50),fontsize=15,color=\"red\")\n",
    "plt.xlabel('Latitude')\n",
    "plt.ylabel('Wind Speed')\n",
    "plt.title(\"Nortern Hemisphere: Latitude vs. Wind Speed\")\n",
    "print(f\"The r-value is {round(correlation[0],2)}\")\n",
    "plt.show()"
   ]
  },
  {
   "cell_type": "markdown",
   "metadata": {},
   "source": [
    "### Southern Hemisphere: Wind Speed (mph) vs. Latitude Linear Regression "
   ]
  },
  {
   "cell_type": "code",
   "execution_count": 27,
   "metadata": {},
   "outputs": [
    {
     "name": "stdout",
     "output_type": "stream",
     "text": [
      "The r-value is -0.31\n"
     ]
    },
    {
     "data": {
      "image/png": "[encoded data removed]",
      "text/plain": [
       "<Figure size 432x288 with 1 Axes>"
      ]
     },
     "metadata": {
      "needs_background": "light"
     },
     "output_type": "display_data"
    },
    {
     "data": {
      "text/plain": [
       "<Figure size 432x288 with 0 Axes>"
      ]
     },
     "metadata": {},
     "output_type": "display_data"
    }
   ],
   "source": [
    "correlation = st.pearsonr(south_lat, south_wind)\n",
    "(slope, intercept, rvalue, pvalue, stderr) = st.linregress(south_lat, south_wind)\n",
    "regress_values = south_lat * slope + intercept\n",
    "line_eq = \"y = \" + str(round(slope,2)) + \"x + \" + str(round(intercept,2))\n",
    "plt.scatter(south_lat, south_wind)\n",
    "plt.plot(south_lat,regress_values, \"r-\")\n",
    "# plt.annotate(line_eq,(0,50),fontsize=15,color=\"red\")\n",
    "plt.xlabel('Latitude')\n",
    "plt.ylabel('Wind Speed')\n",
    "plt.title(\"Southern Hemisphere: Latitude vs. Wind Speed\")\n",
    "print(f\"The r-value is {round(correlation[0],2)}\")\n",
    "plt.show()\n",
    "plt.savefig(\"output_data/south_wind.jpg\", dpi=300)"
   ]
  },
  {
   "cell_type": "code",
   "execution_count": 25,
   "metadata": {},
   "outputs": [],
   "source": [
    "weather_df.to_csv(\"output_data/cities2.csv\", index=False, header=True)"
   ]
  },
  {
   "cell_type": "code",
   "execution_count": null,
   "metadata": {},
   "outputs": [],
   "source": []
  }
 ],
 "metadata": {
  "kernelspec": {
   "display_name": "Python 3",
   "language": "python",
   "name": "python3"
  },
  "language_info": {
   "codemirror_mode": {
    "name": "ipython",
    "version": 3
   },
   "file_extension": ".py",
   "mimetype": "text/x-python",
   "name": "python",
   "nbconvert_exporter": "python",
   "pygments_lexer": "ipython3",
   "version": "3.8.3"
  }
 },
 "nbformat": 4,
 "nbformat_minor": 5
}
