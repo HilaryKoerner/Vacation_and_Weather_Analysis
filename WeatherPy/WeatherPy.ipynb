{
 "cells": [
  {
   "cell_type": "markdown",
   "metadata": {},
   "source": [
    "### Dependencies"
   ]
  },
  {
   "cell_type": "code",
   "execution_count": 1,
   "metadata": {},
   "outputs": [],
   "source": [
    "import matplotlib.pyplot as plt\n",
    "import pandas as pd\n",
    "import numpy as np\n",
    "import json\n",
    "import requests\n",
    "import time\n",
    "from scipy.stats import linregress\n",
    "\n",
    "# Import API key\n",
    "from config import api_key\n",
    "\n",
    "# Incorporated citipy to determine city based on latitude and longitude\n",
    "from citipy import citipy\n",
    "\n",
    "# Output File (CSV)\n",
    "output_data_file = \"output_data/cities.csv\"\n",
    "\n",
    "# Range of latitudes and longitudes\n",
    "lat_range = (-90, 90)\n",
    "lng_range = (-180, 180)"
   ]
  },
  {
   "cell_type": "markdown",
   "metadata": {},
   "source": [
    "### Generate Cities List "
   ]
  },
  {
   "cell_type": "code",
   "execution_count": 2,
   "metadata": {
    "scrolled": true
   },
   "outputs": [
    {
     "data": {
      "text/plain": [
       "590"
      ]
     },
     "execution_count": 2,
     "metadata": {},
     "output_type": "execute_result"
    }
   ],
   "source": [
    " # List for holding lat_lngs and cities\n",
    "lat_lngs = []\n",
    "cities = []\n",
    "\n",
    "# Create a set of random lat and lng combinations\n",
    "lats = np.random.uniform(lat_range[0], lat_range[1], size=1500)\n",
    "lngs = np.random.uniform(lng_range[0], lng_range[1], size=1500)\n",
    "lat_lngs = zip(lats, lngs)\n",
    "\n",
    "# Identify nearest city for each lat, lng combination\n",
    "for lat_lng in lat_lngs:\n",
    "    city = citipy.nearest_city(lat_lng[0], lat_lng[1]).city_name\n",
    "    \n",
    "    # If the city is unique, then add it to a our cities list\n",
    "    if city not in cities:\n",
    "        cities.append(city)\n",
    "\n",
    "# Print the city count to confirm sufficient count\n",
    "len(cities)\n",
    "# print(cities)"
   ]
  },
  {
   "cell_type": "markdown",
   "metadata": {},
   "source": [
    "### Perform API Calls "
   ]
  },
  {
   "cell_type": "code",
   "execution_count": 3,
   "metadata": {},
   "outputs": [],
   "source": [
    "url = \"http://api.openweathermap.org/data/2.5/weather?\"\n",
    "units = \"imperial\"\n",
    "query_url = f\"{url}appid={api_key}&units={units}&q=\""
   ]
  },
  {
   "cell_type": "code",
   "execution_count": 4,
   "metadata": {
    "scrolled": true
   },
   "outputs": [
    {
     "name": "stdout",
     "output_type": "stream",
     "text": [
      "chicago found. Temp appending\n",
      "miami found. Temp appending\n",
      "london found. Temp appending\n",
      "no temp for xxx\n",
      "{'cod': '404', 'message': 'city not found'}\n",
      "[28.99, 72.5, 45.07]\n",
      "['chicago', 'miami', 'london']\n"
     ]
    }
   ],
   "source": [
    "temp_test = []\n",
    "city_test = ['chicago', 'miami', 'london', 'xxx']\n",
    "good_cities = []\n",
    "for city in city_test:\n",
    "    response = requests.get(query_url + city).json()\n",
    "    try:\n",
    "        temp_test.append(response[\"main\"][\"temp\"])\n",
    "        good_cities.append(city)\n",
    "        print(f\"{city} found. Temp appending\")\n",
    "    except KeyError:\n",
    "        print(f\"no temp for {city}\")\n",
    "print(response)\n",
    "print(temp_test)\n",
    "print(good_cities)\n"
   ]
  },
  {
   "cell_type": "code",
   "execution_count": null,
   "metadata": {},
   "outputs": [],
   "source": []
  },
  {
   "cell_type": "code",
   "execution_count": 22,
   "metadata": {},
   "outputs": [
    {
     "name": "stdout",
     "output_type": "stream",
     "text": [
      "no temp found for attawapiskat\n",
      "no temp found for illoqqortoormiut\n",
      "no temp found for taolanaro\n",
      "no temp found for tsihombe\n",
      "no temp found for rawannawi\n",
      "no temp found for karkaralinsk\n",
      "no temp found for ruatoria\n",
      "no temp found for sentyabrskiy\n",
      "no temp found for wulanhaote\n",
      "no temp found for taburi\n",
      "no temp found for tumannyy\n",
      "no temp found for nizhneyansk\n",
      "no temp found for aflu\n",
      "no temp found for qabis\n",
      "no temp found for ust-kamchatsk\n",
      "no temp found for one hundred mile house\n",
      "no temp found for palabuhanratu\n",
      "no temp found for rolim de moura\n",
      "no temp found for marcona\n",
      "no temp found for amderma\n",
      "no temp found for barbar\n",
      "no temp found for kazalinsk\n",
      "no temp found for kracheh\n",
      "no temp found for marathopolis\n",
      "no temp found for tir pol\n",
      "no temp found for tambul\n",
      "no temp found for chagda\n",
      "no temp found for saleaula\n",
      "no temp found for belushya guba\n",
      "no temp found for grand river south east\n",
      "no temp found for barentsburg\n",
      "no temp found for warqla\n",
      "no temp found for vaitupu\n",
      "no temp found for mme\n",
      "no temp found for samusu\n",
      "no temp found for rungata\n",
      "no temp found for mys shmidta\n",
      "no temp found for cockburn harbour\n",
      "no temp found for halalo\n",
      "no temp found for sataua\n",
      "no temp found for tsienyane\n",
      "no temp found for khonuu\n",
      "no temp found for teul\n",
      "no temp found for labutta\n",
      "no temp found for yuzhno-yeniseyskiy\n",
      "{'coord': {'lon': -38.8828, 'lat': -15.8631}, 'weather': [{'id': 802, 'main': 'Clouds', 'description': 'scattered clouds', 'icon': '03n'}], 'base': 'stations', 'main': {'temp': 78.8, 'feels_like': 80.29, 'temp_min': 78.8, 'temp_max': 78.8, 'pressure': 1015, 'humidity': 73}, 'visibility': 10000, 'wind': {'speed': 10.36, 'deg': 100}, 'clouds': {'all': 40}, 'dt': 1611711587, 'sys': {'type': 1, 'id': 8422, 'country': 'BR', 'sunrise': 1611649340, 'sunset': 1611695619}, 'timezone': -10800, 'id': 3470137, 'name': 'Belmonte', 'cod': 200}\n"
     ]
    }
   ],
   "source": [
    "ok_cities = []\n",
    "ok_lat = []\n",
    "ok_lon = []\n",
    "ok_maxtemp = []\n",
    "ok_mintemp = []\n",
    "ok_humidity = []\n",
    "ok_clouds = []\n",
    "ok_wind = []\n",
    "ok_country = []\n",
    "ok_date = []\n",
    "\n",
    "# temp = []\n",
    "# humidity = []\n",
    "# wind_speed = []\n",
    "# city_list = cities\n",
    "# ok_cities = []\n",
    "# ok_lat = []\n",
    "# country = []\n",
    "# ok_lng = []\n",
    "# date = []\n",
    "\n",
    "\n",
    "for city in cities:\n",
    "    response = requests.get(query_url + city).json()\n",
    "    try:\n",
    "        ok_cities.append(response[\"name\"])\n",
    "        ok_lat.append(response[\"coord\"][\"lat\"])\n",
    "        ok_lon.append(response[\"coord\"][\"lon\"])\n",
    "        ok_maxtemp.append(response[\"main\"][\"temp_max\"])\n",
    "        ok_mintemp.append(response[\"main\"][\"temp_min\"])\n",
    "        ok_humidity.append(response[\"main\"][\"humidity\"])\n",
    "        ok_clouds.append(response[\"clouds\"][\"all\"])\n",
    "        ok_wind.append(response[\"wind\"][\"speed\"])\n",
    "        ok_country.append(response[\"sys\"][\"country\"])\n",
    "        ok_date.append(response[\"dt\"])\n",
    "   \n",
    "    except KeyError:\n",
    "        print(f\"no temp found for {city}\")\n",
    "print(response)"
   ]
  },
  {
   "cell_type": "code",
   "execution_count": 25,
   "metadata": {},
   "outputs": [
    {
     "name": "stdout",
     "output_type": "stream",
     "text": [
      "545\n",
      "545\n",
      "545\n",
      "545\n",
      "545\n",
      "545\n",
      "545\n",
      "545\n",
      "545\n",
      "545\n"
     ]
    }
   ],
   "source": [
    "print(len(ok_cities))\n",
    "print(len(ok_lat))\n",
    "print(len(ok_lon))\n",
    "print(len(ok_maxtemp))\n",
    "print(len(ok_mintemp))\n",
    "print(len(ok_humidity))\n",
    "print(len(ok_clouds))\n",
    "print(len(ok_wind))\n",
    "print(len(ok_country))\n",
    "print(len(ok_date))"
   ]
  },
  {
   "cell_type": "markdown",
   "metadata": {},
   "source": [
    "### Convert Raw Data to DataFrame "
   ]
  },
  {
   "cell_type": "code",
   "execution_count": 28,
   "metadata": {},
   "outputs": [
    {
     "data": {
      "text/html": [
       "<div>\n",
       "<style scoped>\n",
       "    .dataframe tbody tr th:only-of-type {\n",
       "        vertical-align: middle;\n",
       "    }\n",
       "\n",
       "    .dataframe tbody tr th {\n",
       "        vertical-align: top;\n",
       "    }\n",
       "\n",
       "    .dataframe thead th {\n",
       "        text-align: right;\n",
       "    }\n",
       "</style>\n",
       "<table border=\"1\" class=\"dataframe\">\n",
       "  <thead>\n",
       "    <tr style=\"text-align: right;\">\n",
       "      <th></th>\n",
       "      <th>City</th>\n",
       "      <th>Latitude</th>\n",
       "      <th>Longitude</th>\n",
       "      <th>Max Temp</th>\n",
       "      <th>Humidity</th>\n",
       "      <th>Cloudiness</th>\n",
       "      <th>Wind Speed</th>\n",
       "      <th>Country</th>\n",
       "      <th>Date</th>\n",
       "    </tr>\n",
       "  </thead>\n",
       "  <tbody>\n",
       "    <tr>\n",
       "      <th>0</th>\n",
       "      <td>Kumul</td>\n",
       "      <td>42.8000</td>\n",
       "      <td>93.4500</td>\n",
       "      <td>16.86</td>\n",
       "      <td>82</td>\n",
       "      <td>0</td>\n",
       "      <td>5.84</td>\n",
       "      <td>CN</td>\n",
       "      <td>1611711381</td>\n",
       "    </tr>\n",
       "    <tr>\n",
       "      <th>1</th>\n",
       "      <td>Ushuaia</td>\n",
       "      <td>-54.8000</td>\n",
       "      <td>-68.3000</td>\n",
       "      <td>39.20</td>\n",
       "      <td>75</td>\n",
       "      <td>75</td>\n",
       "      <td>19.57</td>\n",
       "      <td>AR</td>\n",
       "      <td>1611711025</td>\n",
       "    </tr>\n",
       "    <tr>\n",
       "      <th>2</th>\n",
       "      <td>Qaanaaq</td>\n",
       "      <td>77.4840</td>\n",
       "      <td>-69.3632</td>\n",
       "      <td>-15.84</td>\n",
       "      <td>61</td>\n",
       "      <td>0</td>\n",
       "      <td>7.27</td>\n",
       "      <td>GL</td>\n",
       "      <td>1611711108</td>\n",
       "    </tr>\n",
       "    <tr>\n",
       "      <th>3</th>\n",
       "      <td>Ahipara</td>\n",
       "      <td>-35.1667</td>\n",
       "      <td>173.1667</td>\n",
       "      <td>75.09</td>\n",
       "      <td>63</td>\n",
       "      <td>15</td>\n",
       "      <td>5.64</td>\n",
       "      <td>NZ</td>\n",
       "      <td>1611711108</td>\n",
       "    </tr>\n",
       "    <tr>\n",
       "      <th>4</th>\n",
       "      <td>Asău</td>\n",
       "      <td>46.4333</td>\n",
       "      <td>26.4000</td>\n",
       "      <td>30.99</td>\n",
       "      <td>52</td>\n",
       "      <td>100</td>\n",
       "      <td>6.69</td>\n",
       "      <td>RO</td>\n",
       "      <td>1611711108</td>\n",
       "    </tr>\n",
       "  </tbody>\n",
       "</table>\n",
       "</div>"
      ],
      "text/plain": [
       "      City  Latitude  Longitude  Max Temp  Humidity  Cloudiness  Wind Speed  \\\n",
       "0    Kumul   42.8000    93.4500     16.86        82           0        5.84   \n",
       "1  Ushuaia  -54.8000   -68.3000     39.20        75          75       19.57   \n",
       "2  Qaanaaq   77.4840   -69.3632    -15.84        61           0        7.27   \n",
       "3  Ahipara  -35.1667   173.1667     75.09        63          15        5.64   \n",
       "4     Asău   46.4333    26.4000     30.99        52         100        6.69   \n",
       "\n",
       "  Country        Date  \n",
       "0      CN  1611711381  \n",
       "1      AR  1611711025  \n",
       "2      GL  1611711108  \n",
       "3      NZ  1611711108  \n",
       "4      RO  1611711108  "
      ]
     },
     "execution_count": 28,
     "metadata": {},
     "output_type": "execute_result"
    }
   ],
   "source": [
    "weather_dict = {\"City\": ok_cities, \"Latitude\": ok_lat, \"Longitude\": ok_lon, \"Max Temp\": ok_maxtemp, \n",
    "                \"Humidity\": ok_humidity, \"Cloudiness\": ok_clouds, \"Wind Speed\": ok_wind, \n",
    "                \"Country\": ok_country, \"Date\": ok_date}\n",
    "\n",
    "weather_df = pd.DataFrame(weather_dict)\n",
    "weather_df.head()"
   ]
  },
  {
   "cell_type": "markdown",
   "metadata": {},
   "source": [
    "### Inspect data and remove cities where the humidty is > 100%"
   ]
  },
  {
   "cell_type": "code",
   "execution_count": null,
   "metadata": {},
   "outputs": [],
   "source": [
    "low_hum_df = pd.DataFrame(weather_df[weather_df[\"humidity\"]> 100])\n"
   ]
  },
  {
   "cell_type": "markdown",
   "metadata": {},
   "source": [
    "## Plotting the Data "
   ]
  },
  {
   "cell_type": "markdown",
   "metadata": {},
   "source": [
    "### Latitude vs. Temperature Plot "
   ]
  },
  {
   "cell_type": "markdown",
   "metadata": {},
   "source": [
    "### Latitude vs. Humidty Plot"
   ]
  },
  {
   "cell_type": "markdown",
   "metadata": {},
   "source": [
    "### Latitude vs. Cloudiness Plot"
   ]
  },
  {
   "cell_type": "markdown",
   "metadata": {},
   "source": [
    "###  Latitude vs. Wind Speed Plot"
   ]
  },
  {
   "cell_type": "markdown",
   "metadata": {},
   "source": [
    "## Linear Regression"
   ]
  },
  {
   "cell_type": "code",
   "execution_count": null,
   "metadata": {},
   "outputs": [],
   "source": []
  }
 ],
 "metadata": {
  "kernelspec": {
   "display_name": "Python 3",
   "language": "python",
   "name": "python3"
  },
  "language_info": {
   "codemirror_mode": {
    "name": "ipython",
    "version": 3
   },
   "file_extension": ".py",
   "mimetype": "text/x-python",
   "name": "python",
   "nbconvert_exporter": "python",
   "pygments_lexer": "ipython3",
   "version": "3.8.3"
  }
 },
 "nbformat": 4,
 "nbformat_minor": 5
}
