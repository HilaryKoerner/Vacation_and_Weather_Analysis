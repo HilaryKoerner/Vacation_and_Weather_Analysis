{
 "cells": [
  {
   "cell_type": "markdown",
   "metadata": {},
   "source": [
    "### Dependencies"
   ]
  },
  {
   "cell_type": "code",
   "execution_count": 1,
   "metadata": {},
   "outputs": [],
   "source": [
    "import matplotlib.pyplot as plt\n",
    "import pandas as pd\n",
    "import numpy as np\n",
    "import json\n",
    "import requests\n",
    "import time\n",
    "from scipy.stats import linregress\n",
    "import scipy.stats as st\n",
    "\n",
    "# Import API key\n",
    "from config import api_key\n",
    "\n",
    "# Incorporated citipy to determine city based on latitude and longitude\n",
    "from citipy import citipy\n",
    "\n",
    "# Output File (CSV)\n",
    "# weather_data = \"output_data/cities.csv\"\n",
    "\n",
    "# Range of latitudes and longitudes\n",
    "lat_range = (-90, 90)\n",
    "lng_range = (-180, 180)"
   ]
  },
  {
   "cell_type": "markdown",
   "metadata": {},
   "source": [
    "### Generate Cities List "
   ]
  },
  {
   "cell_type": "code",
   "execution_count": 2,
   "metadata": {
    "scrolled": true
   },
   "outputs": [
    {
     "data": {
      "text/plain": [
       "605"
      ]
     },
     "execution_count": 2,
     "metadata": {},
     "output_type": "execute_result"
    }
   ],
   "source": [
    " # List for holding lat_lngs and cities\n",
    "lat_lngs = []\n",
    "cities = []\n",
    "\n",
    "# Create a set of random lat and lng combinations\n",
    "lats = np.random.uniform(lat_range[0], lat_range[1], size=1500)\n",
    "lngs = np.random.uniform(lng_range[0], lng_range[1], size=1500)\n",
    "lat_lngs = zip(lats, lngs)\n",
    "\n",
    "# Identify nearest city for each lat, lng combination\n",
    "for lat_lng in lat_lngs:\n",
    "    city = citipy.nearest_city(lat_lng[0], lat_lng[1]).city_name\n",
    "    \n",
    "    # If the city is unique, then add it to a our cities list\n",
    "    if city not in cities:\n",
    "        cities.append(city)\n",
    "\n",
    "# Print the city count to confirm sufficient count\n",
    "len(cities)\n",
    "# print(cities)"
   ]
  },
  {
   "cell_type": "markdown",
   "metadata": {},
   "source": [
    "### Perform API Calls "
   ]
  },
  {
   "cell_type": "code",
   "execution_count": 3,
   "metadata": {},
   "outputs": [],
   "source": [
    "url = \"http://api.openweathermap.org/data/2.5/weather?\"\n",
    "units = \"imperial\"\n",
    "query_url = f\"{url}appid={api_key}&units={units}&q=\""
   ]
  },
  {
   "cell_type": "code",
   "execution_count": 4,
   "metadata": {
    "scrolled": true
   },
   "outputs": [],
   "source": [
    "# temp_test = []\n",
    "# city_test = ['chicago', 'miami', 'london', 'xxx']\n",
    "# good_cities = []\n",
    "# for city in city_test:\n",
    "#     response = requests.get(query_url + city).json()\n",
    "#     try:\n",
    "#         temp_test.append(response[\"main\"][\"temp\"])\n",
    "#         good_cities.append(city)\n",
    "#         print(f\"{city} found. Temp appending\")\n",
    "#     except KeyError:\n",
    "#         print(f\"no temp for {city}\")\n",
    "# print(response)\n",
    "# print(temp_test)\n",
    "# print(good_cities)\n"
   ]
  },
  {
   "cell_type": "code",
   "execution_count": 5,
   "metadata": {},
   "outputs": [
    {
     "name": "stdout",
     "output_type": "stream",
     "text": [
      "Failed! No temp found for barentsburg\n",
      "Success! Appending surt\n",
      "Success! Appending chara\n",
      "Success! Appending raga\n",
      "Success! Appending rikitea\n",
      "Success! Appending esperance\n",
      "Success! Appending atuona\n",
      "Success! Appending pevek\n",
      "Success! Appending maragogi\n",
      "Success! Appending xam nua\n",
      "Success! Appending salym\n",
      "Success! Appending qaanaaq\n",
      "Success! Appending busselton\n",
      "Success! Appending new norfolk\n",
      "Failed! No temp found for barawe\n",
      "Success! Appending punta arenas\n",
      "Success! Appending laguna\n",
      "Success! Appending sao filipe\n",
      "Success! Appending upernavik\n",
      "Success! Appending bredasdorp\n",
      "Success! Appending jamestown\n",
      "Failed! No temp found for kamenskoye\n",
      "Failed! No temp found for tabiauea\n",
      "Success! Appending nikolskoye\n",
      "Success! Appending butaritari\n",
      "Success! Appending hasaki\n",
      "Success! Appending chauk\n",
      "Success! Appending hobart\n",
      "Success! Appending vengerovo\n",
      "Success! Appending constitucion\n",
      "Failed! No temp found for umm durman\n",
      "Success! Appending iralaya\n",
      "Success! Appending taoudenni\n",
      "Success! Appending esfarayen\n",
      "Success! Appending caravelas\n",
      "Success! Appending severo-kurilsk\n",
      "Success! Appending victoria\n",
      "Success! Appending avarua\n",
      "Failed! No temp found for grand river south east\n",
      "Success! Appending husavik\n",
      "Success! Appending sao miguel do araguaia\n",
      "Success! Appending hilo\n",
      "Success! Appending alice springs\n",
      "Success! Appending albany\n",
      "Success! Appending dunedin\n",
      "Success! Appending yellowknife\n",
      "Success! Appending arraial do cabo\n",
      "Success! Appending grindavik\n",
      "Success! Appending nisporeni\n",
      "Success! Appending lebu\n",
      "Failed! No temp found for palabuhanratu\n",
      "Success! Appending rio grande\n",
      "Success! Appending soe\n",
      "Success! Appending kapaa\n",
      "Success! Appending port alfred\n",
      "Success! Appending bellinzona\n",
      "Success! Appending chuy\n",
      "Success! Appending mandalgovi\n",
      "Success! Appending sedkyrkeshch\n",
      "Success! Appending puerto ayora\n",
      "Success! Appending georgetown\n",
      "Success! Appending port hardy\n",
      "Success! Appending mataura\n",
      "Success! Appending karonga\n",
      "Failed! No temp found for illoqqortoormiut\n",
      "Success! Appending saskylakh\n",
      "Success! Appending narsaq\n",
      "Success! Appending ciudad bolivar\n",
      "Success! Appending mayo\n",
      "Success! Appending broome\n",
      "Success! Appending shimoda\n",
      "Success! Appending elko\n",
      "Success! Appending tuktoyaktuk\n",
      "Success! Appending thompson\n",
      "Success! Appending saint stephen\n",
      "Success! Appending suratgarh\n",
      "Success! Appending moerai\n",
      "Success! Appending veraval\n",
      "Success! Appending bardiyah\n",
      "Success! Appending xinzhi\n",
      "Success! Appending jining\n",
      "Success! Appending moron\n",
      "Success! Appending dikson\n",
      "Success! Appending ushuaia\n",
      "Success! Appending la ronge\n",
      "Success! Appending cape town\n",
      "Success! Appending mehamn\n",
      "Success! Appending nome\n",
      "Success! Appending coquimbo\n",
      "Success! Appending liuhe\n",
      "Success! Appending atar\n",
      "Success! Appending salalah\n",
      "Success! Appending eureka\n",
      "Success! Appending curuca\n",
      "Success! Appending torbay\n",
      "Success! Appending bambous virieux\n",
      "Success! Appending ravar\n",
      "Failed! No temp found for tsihombe\n",
      "Success! Appending fort frances\n",
      "Success! Appending sambava\n",
      "Success! Appending roebourne\n",
      "Success! Appending xiangxiang\n",
      "Success! Appending kavieng\n",
      "Success! Appending shingu\n",
      "Success! Appending dingle\n",
      "Success! Appending goderich\n",
      "Success! Appending barrow\n",
      "Success! Appending lorengau\n",
      "Success! Appending touros\n",
      "Success! Appending bethel\n",
      "Success! Appending hermanus\n",
      "Success! Appending port-gentil\n",
      "Success! Appending hithadhoo\n",
      "Success! Appending mahebourg\n",
      "Success! Appending kahului\n",
      "Success! Appending ushtobe\n",
      "Failed! No temp found for amderma\n",
      "Success! Appending saint-philippe\n",
      "Failed! No temp found for jahrom\n",
      "Success! Appending sorland\n",
      "Success! Appending longyearbyen\n",
      "Success! Appending port pirie\n",
      "Success! Appending astana\n",
      "Success! Appending bluff\n",
      "Success! Appending vilhena\n",
      "Success! Appending adrar\n",
      "Failed! No temp found for meyungs\n",
      "Success! Appending tuatapere\n",
      "Success! Appending pangody\n",
      "Success! Appending jales\n",
      "Success! Appending abbeville\n",
      "Success! Appending zeya\n",
      "Success! Appending kodiak\n",
      "Success! Appending malatya\n",
      "Success! Appending klaksvik\n",
      "Success! Appending geraldton\n",
      "Success! Appending yichun\n",
      "Success! Appending biak\n",
      "Success! Appending cidreira\n",
      "Success! Appending vao\n",
      "Success! Appending ribeira grande\n",
      "Failed! No temp found for sentyabrskiy\n",
      "Success! Appending borogontsy\n",
      "Success! Appending safidon\n",
      "Success! Appending castro\n",
      "Success! Appending chokurdakh\n",
      "Success! Appending provideniya\n",
      "Success! Appending vila\n",
      "Success! Appending east london\n",
      "Success! Appending mount gambier\n",
      "Success! Appending robe\n",
      "Success! Appending tasiilaq\n",
      "Success! Appending pitimbu\n",
      "Success! Appending curup\n",
      "Success! Appending ancud\n",
      "Success! Appending lander\n",
      "Success! Appending san quintin\n",
      "Success! Appending tsogni\n",
      "Failed! No temp found for taolanaro\n",
      "Success! Appending helong\n",
      "Success! Appending talnakh\n",
      "Success! Appending bandarbeyla\n",
      "Success! Appending sao francisco de paula\n",
      "Success! Appending souillac\n",
      "Success! Appending vaini\n",
      "Success! Appending kontagora\n",
      "Success! Appending port blair\n",
      "Success! Appending port elizabeth\n",
      "Success! Appending coruripe\n",
      "Success! Appending saint george\n",
      "Success! Appending kishi\n",
      "Success! Appending namatanai\n",
      "Success! Appending salvador\n",
      "Success! Appending vardo\n",
      "Success! Appending mareeba\n",
      "Success! Appending inta\n",
      "Success! Appending okhotsk\n",
      "Success! Appending katsuura\n",
      "Success! Appending ponta do sol\n",
      "Success! Appending novoagansk\n",
      "Success! Appending blatna\n",
      "Success! Appending iqaluit\n",
      "Success! Appending mutenice\n",
      "Success! Appending bengkulu\n",
      "Success! Appending quelimane\n",
      "Success! Appending kloulklubed\n",
      "Success! Appending haines junction\n",
      "Success! Appending koygorodok\n",
      "Success! Appending khatanga\n",
      "Success! Appending rumuruti\n",
      "Success! Appending isangel\n",
      "Success! Appending bogorodskoye\n",
      "Success! Appending capoterra\n",
      "Success! Appending ilulissat\n",
      "Success! Appending vanavara\n",
      "Success! Appending axim\n",
      "Success! Appending bilma\n",
      "Success! Appending namibe\n",
      "Success! Appending gazanjyk\n",
      "Success! Appending hastings\n",
      "Success! Appending ternate\n",
      "Success! Appending chumikan\n",
      "Success! Appending waingapu\n",
      "Success! Appending sayyan\n",
      "Success! Appending taltal\n",
      "Success! Appending pacific grove\n",
      "Success! Appending cabo san lucas\n",
      "Success! Appending san jeronimo\n",
      "Success! Appending sinnamary\n",
      "Failed! No temp found for halalo\n",
      "Success! Appending mackay\n",
      "Success! Appending narrabri\n",
      "Success! Appending trairi\n",
      "Success! Appending jijiga\n",
      "Success! Appending poronaysk\n",
      "Success! Appending tiksi\n",
      "Success! Appending azare\n",
      "Success! Appending rosario\n",
      "Failed! No temp found for attawapiskat\n",
      "Success! Appending leningradskiy\n",
      "Success! Appending rundu\n",
      "Success! Appending pontes e lacerda\n",
      "Success! Appending qui nhon\n",
      "Success! Appending sarankhola\n",
      "Success! Appending gibgos\n",
      "Success! Appending alexandria\n",
      "Success! Appending kawalu\n",
      "Success! Appending fomboni\n",
      "Success! Appending mar del plata\n",
      "Success! Appending gushikawa\n",
      "Success! Appending simao\n",
      "Success! Appending dhidhdhoo\n",
      "Success! Appending christchurch\n",
      "Success! Appending challans\n",
      "Success! Appending rio gallegos\n",
      "Success! Appending tual\n",
      "Success! Appending whitehorse\n",
      "Success! Appending pisco\n",
      "Success! Appending katobu\n",
      "Success! Appending cap-haitien\n",
      "Success! Appending jalu\n",
      "Success! Appending karratha\n",
      "Success! Appending manzil salim\n",
      "Success! Appending xinzhou\n",
      "Success! Appending ayat\n",
      "Success! Appending nurota\n",
      "Success! Appending vanimo\n",
      "Success! Appending sioux lookout\n",
      "Success! Appending hamilton\n",
      "Success! Appending hirara\n",
      "Success! Appending sibu\n",
      "Success! Appending lompoc\n",
      "Success! Appending manggar\n",
      "Success! Appending volnovakha\n",
      "Success! Appending mission viejo\n",
      "Success! Appending svetlyy\n",
      "Failed! No temp found for bolungarvik\n",
      "Success! Appending atbasar\n",
      "Success! Appending tomatlan\n",
      "Success! Appending alihe\n",
      "Failed! No temp found for utiroa\n",
      "Success! Appending ginir\n",
      "Success! Appending lamar\n",
      "Success! Appending misratah\n",
      "Success! Appending raudeberg\n",
      "Success! Appending tarko-sale\n",
      "Success! Appending ziniare\n",
      "Success! Appending norman wells\n",
      "Success! Appending pacifica\n",
      "Success! Appending erzin\n",
      "Success! Appending faanui\n",
      "Success! Appending sarangani\n",
      "Success! Appending youkounkoun\n",
      "Failed! No temp found for marcona\n",
      "Success! Appending payo\n",
      "Failed! No temp found for kalomo\n",
      "Success! Appending rio branco\n",
      "Success! Appending rostovka\n",
      "Success! Appending port lincoln\n",
      "Failed! No temp found for nizhneyansk\n",
      "Success! Appending ozinki\n",
      "Success! Appending ahuimanu\n",
      "Success! Appending coihaique\n",
      "Failed! No temp found for el faiyum\n",
      "Success! Appending boende\n",
      "Success! Appending paita\n"
     ]
    },
    {
     "name": "stdout",
     "output_type": "stream",
     "text": [
      "Success! Appending oistins\n",
      "Success! Appending ust-kuyga\n",
      "Success! Appending bougouni\n",
      "Success! Appending birin\n",
      "Success! Appending dilla\n",
      "Success! Appending poum\n",
      "Success! Appending yurimaguas\n",
      "Success! Appending buchanan\n",
      "Success! Appending baturaja\n",
      "Success! Appending qixingtai\n",
      "Success! Appending kampene\n",
      "Success! Appending okakarara\n",
      "Success! Appending meredith\n",
      "Success! Appending buckeye\n",
      "Success! Appending bathsheba\n",
      "Success! Appending lala\n",
      "Success! Appending tayu\n",
      "Success! Appending san cristobal\n",
      "Success! Appending carnarvon\n",
      "Success! Appending saint-pierre\n",
      "Failed! No temp found for belushya guba\n",
      "Success! Appending krasnyy yar\n",
      "Success! Appending lasa\n",
      "Failed! No temp found for sumbawa\n",
      "Success! Appending airai\n",
      "Success! Appending tarakan\n",
      "Success! Appending khovu-aksy\n",
      "Success! Appending enshi\n",
      "Success! Appending shakawe\n",
      "Success! Appending opuwo\n",
      "Success! Appending fortuna\n",
      "Success! Appending novyy urengoy\n",
      "Success! Appending cockburn town\n",
      "Success! Appending noshiro\n",
      "Success! Appending lagoa\n",
      "Success! Appending homer\n",
      "Success! Appending eydhafushi\n",
      "Success! Appending acapulco\n",
      "Success! Appending barra do bugres\n",
      "Success! Appending victor harbor\n",
      "Success! Appending nemuro\n",
      "Success! Appending basco\n",
      "Success! Appending bubaque\n",
      "Failed! No temp found for tumannyy\n",
      "Success! Appending luderitz\n",
      "Success! Appending mount isa\n",
      "Success! Appending praia\n",
      "Success! Appending saint-francois\n",
      "Failed! No temp found for ngukurr\n",
      "Success! Appending sangar\n",
      "Success! Appending cayenne\n",
      "Success! Appending vrangel\n",
      "Success! Appending beloha\n",
      "Success! Appending dharchula\n",
      "Failed! No temp found for samusu\n",
      "Success! Appending namtsy\n",
      "Success! Appending seguela\n",
      "Success! Appending yulara\n",
      "Failed! No temp found for chagda\n",
      "Success! Appending filingue\n",
      "Success! Appending port augusta\n",
      "Success! Appending santa maria\n",
      "Success! Appending itoman\n",
      "Success! Appending gazojak\n",
      "Failed! No temp found for rawannawi\n",
      "Success! Appending muroto\n",
      "Success! Appending itaituba\n",
      "Success! Appending coleraine\n",
      "Success! Appending garoua\n",
      "Failed! No temp found for rungata\n",
      "Success! Appending cedar city\n",
      "Success! Appending east linton\n",
      "Success! Appending biltine\n",
      "Success! Appending labuhan\n",
      "Failed! No temp found for lar gerd\n",
      "Success! Appending manger\n",
      "Success! Appending siocon\n",
      "Success! Appending ambilobe\n",
      "Success! Appending lev tolstoy\n",
      "Success! Appending sao lourenco do sul\n",
      "Success! Appending waupun\n",
      "Success! Appending hualmay\n",
      "Success! Appending kaitangata\n",
      "Success! Appending ilyich\n",
      "Success! Appending thurso\n",
      "Success! Appending san patricio\n",
      "Success! Appending ous\n",
      "Success! Appending darnah\n",
      "Failed! No temp found for saleaula\n",
      "Success! Appending gilbues\n",
      "Success! Appending korla\n",
      "Success! Appending vestmannaeyjar\n",
      "Success! Appending fukue\n",
      "Success! Appending nizhniy tsasuchey\n",
      "Success! Appending comodoro rivadavia\n",
      "Success! Appending faya\n",
      "Success! Appending huarmey\n",
      "Success! Appending tamayo\n",
      "Success! Appending morros\n",
      "Success! Appending luklukan\n",
      "Success! Appending mungwi\n",
      "Success! Appending cherskiy\n",
      "Success! Appending mecca\n",
      "Success! Appending churapcha\n",
      "Success! Appending babu\n",
      "Success! Appending viedma\n",
      "Success! Appending lucapa\n",
      "Success! Appending kenai\n",
      "Success! Appending madingou\n",
      "Success! Appending juneau\n",
      "Success! Appending krasnoselkup\n",
      "Success! Appending bilibino\n",
      "Success! Appending hambantota\n",
      "Success! Appending bundaberg\n",
      "Success! Appending cervo\n",
      "Failed! No temp found for alotau\n",
      "Success! Appending fort nelson\n",
      "Success! Appending mtwara\n",
      "Success! Appending susanville\n",
      "Success! Appending siyabuswa\n",
      "Success! Appending seoul\n",
      "Success! Appending salamiyah\n",
      "Success! Appending pokosnoye\n",
      "Success! Appending hengyang\n",
      "Success! Appending sayansk\n",
      "Success! Appending zhanakorgan\n",
      "Success! Appending berezovka\n",
      "Success! Appending mikhaylovka\n",
      "Failed! No temp found for solovetskiy\n",
      "Success! Appending dobra\n",
      "Success! Appending aktau\n",
      "Failed! No temp found for mys shmidta\n",
      "Success! Appending araouane\n",
      "Success! Appending guarapari\n",
      "Success! Appending asau\n",
      "Failed! No temp found for haibowan\n",
      "Success! Appending zhezkazgan\n",
      "Success! Appending abalak\n",
      "Success! Appending swan river\n",
      "Failed! No temp found for rakhya\n",
      "Success! Appending deputatskiy\n",
      "Success! Appending neiafu\n",
      "Success! Appending aberdeen\n",
      "Success! Appending khor\n",
      "Success! Appending san anselmo\n",
      "Success! Appending los llanos de aridane\n",
      "Success! Appending myitkyina\n",
      "Success! Appending gizo\n",
      "Success! Appending te anau\n",
      "Success! Appending diffa\n",
      "Success! Appending pahrump\n",
      "Success! Appending merauke\n",
      "Success! Appending sisophon\n",
      "Success! Appending koroni\n",
      "Success! Appending carballo\n",
      "Success! Appending breytovo\n",
      "Success! Appending northam\n",
      "Success! Appending tacuati\n",
      "Success! Appending mount pleasant\n",
      "Success! Appending tacoronte\n",
      "Success! Appending poltavka\n",
      "Success! Appending joshimath\n",
      "Success! Appending norwich\n",
      "Failed! No temp found for tlapa\n",
      "Success! Appending westport\n",
      "Success! Appending gra liyia\n",
      "Success! Appending galle\n",
      "Success! Appending shache\n",
      "Success! Appending walvis bay\n",
      "Success! Appending la rioja\n",
      "Success! Appending yangshe\n",
      "Failed! No temp found for malwan\n",
      "Success! Appending saint pete beach\n",
      "Failed! No temp found for burica\n",
      "Success! Appending tazovskiy\n",
      "Success! Appending muzhi\n",
      "Success! Appending elizabeth city\n",
      "Success! Appending shiyan\n",
      "Success! Appending clyde river\n",
      "Success! Appending davidson\n",
      "Success! Appending prado\n",
      "Success! Appending altoona\n",
      "Success! Appending ballina\n",
      "Success! Appending altamont\n",
      "Success! Appending coyutla\n",
      "Success! Appending semnan\n",
      "Failed! No temp found for toliary\n",
      "Success! Appending da lat\n",
      "Success! Appending jacksonville\n",
      "Success! Appending miraflores\n",
      "Success! Appending aginskoye\n",
      "Failed! No temp found for vestbygda\n",
      "Success! Appending codrington\n",
      "Success! Appending tulle\n",
      "Success! Appending mvomero\n",
      "Success! Appending honiara\n",
      "Success! Appending tongliao\n",
      "Success! Appending torit\n",
      "Success! Appending pucallpa\n",
      "Success! Appending muravlenko\n",
      "Success! Appending aksarka\n",
      "Success! Appending kaeo\n",
      "Success! Appending san carlos de bariloche\n",
      "Success! Appending nova olinda do norte\n",
      "Success! Appending armizonskoye\n",
      "Success! Appending lewiston\n",
      "Success! Appending komsomolskiy\n",
      "Success! Appending olafsvik\n",
      "Failed! No temp found for fort saint john\n",
      "Success! Appending banda aceh\n",
      "Success! Appending prabumulih\n",
      "Success! Appending varnsdorf\n",
      "Success! Appending berdigestyakh\n",
      "Success! Appending sao joao da barra\n",
      "Success! Appending lerwick\n",
      "Success! Appending cananeia\n",
      "Success! Appending ponta delgada\n",
      "Success! Appending inzer\n",
      "Success! Appending mapiripan\n",
      "Success! Appending zhangjiakou\n",
      "Success! Appending russell\n",
      "Success! Appending hammerfest\n",
      "Success! Appending alofi\n",
      "Success! Appending amahai\n",
      "Success! Appending bay roberts\n",
      "Success! Appending yeovil\n",
      "Success! Appending tiznit\n",
      "Success! Appending kruisfontein\n",
      "Success! Appending lukovetskiy\n",
      "Success! Appending pirapemas\n",
      "Success! Appending richards bay\n",
      "Success! Appending olinda\n",
      "Success! Appending uyar\n",
      "Success! Appending ulverstone\n",
      "Success! Appending racovita\n",
      "Success! Appending necochea\n",
      "Success! Appending smirnykh\n",
      "Success! Appending zastron\n",
      "Success! Appending margate\n",
      "Success! Appending darab\n",
      "Success! Appending tanem\n",
      "Success! Appending lavrentiya\n",
      "Success! Appending isiro\n",
      "Success! Appending klooga\n",
      "Success! Appending novaya lyada\n",
      "Success! Appending pinehurst\n",
      "Success! Appending siniscola\n",
      "Success! Appending avera\n",
      "Success! Appending antalaha\n",
      "Success! Appending fengrun\n",
      "Success! Appending beyneu\n",
      "Success! Appending baykit\n",
      "Success! Appending posadas\n",
      "Success! Appending magdagachi\n",
      "Success! Appending santa cruz cabralia\n",
      "Success! Appending san vicente\n",
      "Success! Appending elbistan\n",
      "Success! Appending qingyuan\n",
      "Failed! No temp found for tubruq\n",
      "Success! Appending kuloy\n",
      "Success! Appending lisakovsk\n",
      "Success! Appending lakes entrance\n",
      "Failed! No temp found for bacuit\n",
      "Success! Appending hokitika\n",
      "Success! Appending mossendjo\n",
      "Success! Appending henties bay\n",
      "Success! Appending ranong\n",
      "Success! Appending dongli\n",
      "Failed! No temp found for kegayli\n",
      "Success! Appending jizan\n",
      "Success! Appending daru\n",
      "Success! Appending bac lieu\n",
      "Success! Appending vung tau\n",
      "Success! Appending sobolevo\n",
      "Success! Appending xingcheng\n",
      "Success! Appending high level\n",
      "Success! Appending eenhana\n",
      "Success! Appending gwanda\n",
      "Success! Appending bharatpur\n",
      "Success! Appending brae\n",
      "Success! Appending roald\n",
      "Success! Appending aklavik\n",
      "Success! Appending kabanjahe\n",
      "Success! Appending khuzhir\n",
      "Success! Appending gambela\n"
     ]
    },
    {
     "name": "stdout",
     "output_type": "stream",
     "text": [
      "Success! Appending saldanha\n",
      "Failed! No temp found for azimur\n",
      "Success! Appending granville\n",
      "Success! Appending aviles\n",
      "Success! Appending sakakah\n",
      "Success! Appending saint anthony\n",
      "Success! Appending huanan\n",
      "Success! Appending shimanovsk\n",
      "Success! Appending bajil\n",
      "Success! Appending nagua\n",
      "Success! Appending oranjemund\n",
      "Success! Appending kurumkan\n",
      "Success! Appending belaya gora\n",
      "Success! Appending nyurba\n",
      "Success! Appending mubende\n",
      "Success! Appending micheweni\n",
      "Success! Appending council bluffs\n",
      "Success! Appending huilong\n",
      "Success! Appending birao\n",
      "Success! Appending malanje\n",
      "Success! Appending carauari\n",
      "Failed! No temp found for zhanatas\n",
      "Success! Appending sitka\n",
      "Success! Appending taunggyi\n",
      "Success! Appending mitsamiouli\n",
      "Success! Appending camacha\n",
      "Failed! No temp found for paradwip\n",
      "Success! Appending muros\n",
      "Success! Appending ardatov\n",
      "Failed! No temp found for karamay\n",
      "Success! Appending bara\n",
      "Success! Appending north las vegas\n",
      "Success! Appending san policarpo\n",
      "Success! Appending deniliquin\n",
      "{'coord': {'lon': 144.9667, 'lat': -35.5333}, 'weather': [{'id': 804, 'main': 'Clouds', 'description': 'overcast clouds', 'icon': '04d'}], 'base': 'stations', 'main': {'temp': 75.99, 'feels_like': 76.75, 'temp_min': 75.99, 'temp_max': 75.99, 'pressure': 1012, 'humidity': 50}, 'visibility': 10000, 'wind': {'speed': 1.99, 'deg': 37, 'gust': 14}, 'clouds': {'all': 100}, 'dt': 1611792955, 'sys': {'type': 3, 'id': 2018904, 'country': 'AU', 'sunrise': 1611776040, 'sunset': 1611826309}, 'timezone': 39600, 'id': 2169068, 'name': 'Deniliquin', 'cod': 200}\n"
     ]
    }
   ],
   "source": [
    "ok_cities = []\n",
    "ok_lat = []\n",
    "ok_lon = []\n",
    "ok_maxtemp = []\n",
    "ok_mintemp = []\n",
    "ok_humidity = []\n",
    "ok_clouds = []\n",
    "ok_wind = []\n",
    "ok_country = []\n",
    "ok_date = []\n",
    "\n",
    "for city in cities:\n",
    "    response = requests.get(query_url + city).json()\n",
    "    try:\n",
    "        ok_cities.append(response[\"name\"])\n",
    "        ok_lat.append(response[\"coord\"][\"lat\"])\n",
    "        ok_lon.append(response[\"coord\"][\"lon\"])\n",
    "        ok_maxtemp.append(response[\"main\"][\"temp_max\"])\n",
    "        ok_mintemp.append(response[\"main\"][\"temp_min\"])\n",
    "        ok_humidity.append(response[\"main\"][\"humidity\"])\n",
    "        ok_clouds.append(response[\"clouds\"][\"all\"])\n",
    "        ok_wind.append(response[\"wind\"][\"speed\"])\n",
    "        ok_country.append(response[\"sys\"][\"country\"])\n",
    "        ok_date.append(response[\"dt\"])\n",
    "        print(f\"Success! Appending {city}\")\n",
    "           \n",
    "    except KeyError:\n",
    "        print(f\"Failed! No temp found for {city}\")\n",
    "print(response)"
   ]
  },
  {
   "cell_type": "code",
   "execution_count": 6,
   "metadata": {},
   "outputs": [
    {
     "name": "stdout",
     "output_type": "stream",
     "text": [
      "555\n",
      "555\n",
      "555\n",
      "555\n",
      "555\n",
      "555\n",
      "555\n",
      "555\n",
      "555\n",
      "555\n"
     ]
    }
   ],
   "source": [
    "print(len(ok_cities))\n",
    "print(len(ok_lat))\n",
    "print(len(ok_lon))\n",
    "print(len(ok_maxtemp))\n",
    "print(len(ok_mintemp))\n",
    "print(len(ok_humidity))\n",
    "print(len(ok_clouds))\n",
    "print(len(ok_wind))\n",
    "print(len(ok_country))\n",
    "print(len(ok_date))"
   ]
  },
  {
   "cell_type": "markdown",
   "metadata": {},
   "source": [
    "### Convert Raw Data to DataFrame "
   ]
  },
  {
   "cell_type": "code",
   "execution_count": 7,
   "metadata": {},
   "outputs": [
    {
     "data": {
      "text/html": [
       "<div>\n",
       "<style scoped>\n",
       "    .dataframe tbody tr th:only-of-type {\n",
       "        vertical-align: middle;\n",
       "    }\n",
       "\n",
       "    .dataframe tbody tr th {\n",
       "        vertical-align: top;\n",
       "    }\n",
       "\n",
       "    .dataframe thead th {\n",
       "        text-align: right;\n",
       "    }\n",
       "</style>\n",
       "<table border=\"1\" class=\"dataframe\">\n",
       "  <thead>\n",
       "    <tr style=\"text-align: right;\">\n",
       "      <th></th>\n",
       "      <th>City</th>\n",
       "      <th>Latitude</th>\n",
       "      <th>Longitude</th>\n",
       "      <th>Max Temp</th>\n",
       "      <th>Humidity</th>\n",
       "      <th>Cloudiness</th>\n",
       "      <th>Wind Speed</th>\n",
       "      <th>Country</th>\n",
       "      <th>Date</th>\n",
       "    </tr>\n",
       "  </thead>\n",
       "  <tbody>\n",
       "    <tr>\n",
       "      <th>0</th>\n",
       "      <td>Sirte</td>\n",
       "      <td>31.2089</td>\n",
       "      <td>16.5887</td>\n",
       "      <td>55.85</td>\n",
       "      <td>65</td>\n",
       "      <td>31</td>\n",
       "      <td>17.67</td>\n",
       "      <td>LY</td>\n",
       "      <td>1611792587</td>\n",
       "    </tr>\n",
       "    <tr>\n",
       "      <th>1</th>\n",
       "      <td>Chara</td>\n",
       "      <td>56.9064</td>\n",
       "      <td>118.2631</td>\n",
       "      <td>-31.86</td>\n",
       "      <td>77</td>\n",
       "      <td>100</td>\n",
       "      <td>0.63</td>\n",
       "      <td>RU</td>\n",
       "      <td>1611792710</td>\n",
       "    </tr>\n",
       "    <tr>\n",
       "      <th>2</th>\n",
       "      <td>Raja</td>\n",
       "      <td>8.4596</td>\n",
       "      <td>25.6780</td>\n",
       "      <td>70.90</td>\n",
       "      <td>25</td>\n",
       "      <td>49</td>\n",
       "      <td>3.91</td>\n",
       "      <td>SS</td>\n",
       "      <td>1611792710</td>\n",
       "    </tr>\n",
       "    <tr>\n",
       "      <th>3</th>\n",
       "      <td>Rikitea</td>\n",
       "      <td>-23.1203</td>\n",
       "      <td>-134.9692</td>\n",
       "      <td>79.95</td>\n",
       "      <td>73</td>\n",
       "      <td>92</td>\n",
       "      <td>11.68</td>\n",
       "      <td>PF</td>\n",
       "      <td>1611792711</td>\n",
       "    </tr>\n",
       "    <tr>\n",
       "      <th>4</th>\n",
       "      <td>Esperance</td>\n",
       "      <td>-33.8667</td>\n",
       "      <td>121.9000</td>\n",
       "      <td>66.20</td>\n",
       "      <td>77</td>\n",
       "      <td>90</td>\n",
       "      <td>9.22</td>\n",
       "      <td>AU</td>\n",
       "      <td>1611792711</td>\n",
       "    </tr>\n",
       "    <tr>\n",
       "      <th>...</th>\n",
       "      <td>...</td>\n",
       "      <td>...</td>\n",
       "      <td>...</td>\n",
       "      <td>...</td>\n",
       "      <td>...</td>\n",
       "      <td>...</td>\n",
       "      <td>...</td>\n",
       "      <td>...</td>\n",
       "      <td>...</td>\n",
       "    </tr>\n",
       "    <tr>\n",
       "      <th>550</th>\n",
       "      <td>Ardatov</td>\n",
       "      <td>55.2421</td>\n",
       "      <td>43.0970</td>\n",
       "      <td>33.67</td>\n",
       "      <td>95</td>\n",
       "      <td>100</td>\n",
       "      <td>13.18</td>\n",
       "      <td>RU</td>\n",
       "      <td>1611792954</td>\n",
       "    </tr>\n",
       "    <tr>\n",
       "      <th>551</th>\n",
       "      <td>Bara</td>\n",
       "      <td>10.3744</td>\n",
       "      <td>10.7288</td>\n",
       "      <td>73.85</td>\n",
       "      <td>17</td>\n",
       "      <td>25</td>\n",
       "      <td>10.51</td>\n",
       "      <td>NG</td>\n",
       "      <td>1611792954</td>\n",
       "    </tr>\n",
       "    <tr>\n",
       "      <th>552</th>\n",
       "      <td>North Las Vegas</td>\n",
       "      <td>36.1989</td>\n",
       "      <td>-115.1175</td>\n",
       "      <td>50.00</td>\n",
       "      <td>46</td>\n",
       "      <td>90</td>\n",
       "      <td>12.66</td>\n",
       "      <td>US</td>\n",
       "      <td>1611792915</td>\n",
       "    </tr>\n",
       "    <tr>\n",
       "      <th>553</th>\n",
       "      <td>San Policarpo</td>\n",
       "      <td>12.1791</td>\n",
       "      <td>125.5072</td>\n",
       "      <td>80.65</td>\n",
       "      <td>82</td>\n",
       "      <td>100</td>\n",
       "      <td>14.56</td>\n",
       "      <td>PH</td>\n",
       "      <td>1611792955</td>\n",
       "    </tr>\n",
       "    <tr>\n",
       "      <th>554</th>\n",
       "      <td>Deniliquin</td>\n",
       "      <td>-35.5333</td>\n",
       "      <td>144.9667</td>\n",
       "      <td>75.99</td>\n",
       "      <td>50</td>\n",
       "      <td>100</td>\n",
       "      <td>1.99</td>\n",
       "      <td>AU</td>\n",
       "      <td>1611792955</td>\n",
       "    </tr>\n",
       "  </tbody>\n",
       "</table>\n",
       "<p>555 rows × 9 columns</p>\n",
       "</div>"
      ],
      "text/plain": [
       "                City  Latitude  Longitude  Max Temp  Humidity  Cloudiness  \\\n",
       "0              Sirte   31.2089    16.5887     55.85        65          31   \n",
       "1              Chara   56.9064   118.2631    -31.86        77         100   \n",
       "2               Raja    8.4596    25.6780     70.90        25          49   \n",
       "3            Rikitea  -23.1203  -134.9692     79.95        73          92   \n",
       "4          Esperance  -33.8667   121.9000     66.20        77          90   \n",
       "..               ...       ...        ...       ...       ...         ...   \n",
       "550          Ardatov   55.2421    43.0970     33.67        95         100   \n",
       "551             Bara   10.3744    10.7288     73.85        17          25   \n",
       "552  North Las Vegas   36.1989  -115.1175     50.00        46          90   \n",
       "553    San Policarpo   12.1791   125.5072     80.65        82         100   \n",
       "554       Deniliquin  -35.5333   144.9667     75.99        50         100   \n",
       "\n",
       "     Wind Speed Country        Date  \n",
       "0         17.67      LY  1611792587  \n",
       "1          0.63      RU  1611792710  \n",
       "2          3.91      SS  1611792710  \n",
       "3         11.68      PF  1611792711  \n",
       "4          9.22      AU  1611792711  \n",
       "..          ...     ...         ...  \n",
       "550       13.18      RU  1611792954  \n",
       "551       10.51      NG  1611792954  \n",
       "552       12.66      US  1611792915  \n",
       "553       14.56      PH  1611792955  \n",
       "554        1.99      AU  1611792955  \n",
       "\n",
       "[555 rows x 9 columns]"
      ]
     },
     "execution_count": 7,
     "metadata": {},
     "output_type": "execute_result"
    }
   ],
   "source": [
    "weather_dict = {\"City\": ok_cities, \"Latitude\": ok_lat, \"Longitude\": ok_lon, \"Max Temp\": ok_maxtemp, \n",
    "                \"Humidity\": ok_humidity, \"Cloudiness\": ok_clouds, \"Wind Speed\": ok_wind, \n",
    "                \"Country\": ok_country, \"Date\": ok_date}\n",
    "\n",
    "weather_df = pd.DataFrame(weather_dict)\n",
    "weather_df"
   ]
  },
  {
   "cell_type": "markdown",
   "metadata": {},
   "source": [
    "### Inspect data and remove cities where the humidty is > 100%"
   ]
  },
  {
   "cell_type": "code",
   "execution_count": 8,
   "metadata": {},
   "outputs": [
    {
     "data": {
      "text/html": [
       "<div>\n",
       "<style scoped>\n",
       "    .dataframe tbody tr th:only-of-type {\n",
       "        vertical-align: middle;\n",
       "    }\n",
       "\n",
       "    .dataframe tbody tr th {\n",
       "        vertical-align: top;\n",
       "    }\n",
       "\n",
       "    .dataframe thead th {\n",
       "        text-align: right;\n",
       "    }\n",
       "</style>\n",
       "<table border=\"1\" class=\"dataframe\">\n",
       "  <thead>\n",
       "    <tr style=\"text-align: right;\">\n",
       "      <th></th>\n",
       "      <th>City</th>\n",
       "      <th>Latitude</th>\n",
       "      <th>Longitude</th>\n",
       "      <th>Max Temp</th>\n",
       "      <th>Humidity</th>\n",
       "      <th>Cloudiness</th>\n",
       "      <th>Wind Speed</th>\n",
       "      <th>Country</th>\n",
       "      <th>Date</th>\n",
       "    </tr>\n",
       "  </thead>\n",
       "  <tbody>\n",
       "    <tr>\n",
       "      <th>0</th>\n",
       "      <td>Sirte</td>\n",
       "      <td>31.2089</td>\n",
       "      <td>16.5887</td>\n",
       "      <td>55.85</td>\n",
       "      <td>65</td>\n",
       "      <td>31</td>\n",
       "      <td>17.67</td>\n",
       "      <td>LY</td>\n",
       "      <td>1611792587</td>\n",
       "    </tr>\n",
       "    <tr>\n",
       "      <th>1</th>\n",
       "      <td>Chara</td>\n",
       "      <td>56.9064</td>\n",
       "      <td>118.2631</td>\n",
       "      <td>-31.86</td>\n",
       "      <td>77</td>\n",
       "      <td>100</td>\n",
       "      <td>0.63</td>\n",
       "      <td>RU</td>\n",
       "      <td>1611792710</td>\n",
       "    </tr>\n",
       "    <tr>\n",
       "      <th>2</th>\n",
       "      <td>Raja</td>\n",
       "      <td>8.4596</td>\n",
       "      <td>25.6780</td>\n",
       "      <td>70.90</td>\n",
       "      <td>25</td>\n",
       "      <td>49</td>\n",
       "      <td>3.91</td>\n",
       "      <td>SS</td>\n",
       "      <td>1611792710</td>\n",
       "    </tr>\n",
       "    <tr>\n",
       "      <th>3</th>\n",
       "      <td>Rikitea</td>\n",
       "      <td>-23.1203</td>\n",
       "      <td>-134.9692</td>\n",
       "      <td>79.95</td>\n",
       "      <td>73</td>\n",
       "      <td>92</td>\n",
       "      <td>11.68</td>\n",
       "      <td>PF</td>\n",
       "      <td>1611792711</td>\n",
       "    </tr>\n",
       "    <tr>\n",
       "      <th>4</th>\n",
       "      <td>Esperance</td>\n",
       "      <td>-33.8667</td>\n",
       "      <td>121.9000</td>\n",
       "      <td>66.20</td>\n",
       "      <td>77</td>\n",
       "      <td>90</td>\n",
       "      <td>9.22</td>\n",
       "      <td>AU</td>\n",
       "      <td>1611792711</td>\n",
       "    </tr>\n",
       "    <tr>\n",
       "      <th>...</th>\n",
       "      <td>...</td>\n",
       "      <td>...</td>\n",
       "      <td>...</td>\n",
       "      <td>...</td>\n",
       "      <td>...</td>\n",
       "      <td>...</td>\n",
       "      <td>...</td>\n",
       "      <td>...</td>\n",
       "      <td>...</td>\n",
       "    </tr>\n",
       "    <tr>\n",
       "      <th>550</th>\n",
       "      <td>Ardatov</td>\n",
       "      <td>55.2421</td>\n",
       "      <td>43.0970</td>\n",
       "      <td>33.67</td>\n",
       "      <td>95</td>\n",
       "      <td>100</td>\n",
       "      <td>13.18</td>\n",
       "      <td>RU</td>\n",
       "      <td>1611792954</td>\n",
       "    </tr>\n",
       "    <tr>\n",
       "      <th>551</th>\n",
       "      <td>Bara</td>\n",
       "      <td>10.3744</td>\n",
       "      <td>10.7288</td>\n",
       "      <td>73.85</td>\n",
       "      <td>17</td>\n",
       "      <td>25</td>\n",
       "      <td>10.51</td>\n",
       "      <td>NG</td>\n",
       "      <td>1611792954</td>\n",
       "    </tr>\n",
       "    <tr>\n",
       "      <th>552</th>\n",
       "      <td>North Las Vegas</td>\n",
       "      <td>36.1989</td>\n",
       "      <td>-115.1175</td>\n",
       "      <td>50.00</td>\n",
       "      <td>46</td>\n",
       "      <td>90</td>\n",
       "      <td>12.66</td>\n",
       "      <td>US</td>\n",
       "      <td>1611792915</td>\n",
       "    </tr>\n",
       "    <tr>\n",
       "      <th>553</th>\n",
       "      <td>San Policarpo</td>\n",
       "      <td>12.1791</td>\n",
       "      <td>125.5072</td>\n",
       "      <td>80.65</td>\n",
       "      <td>82</td>\n",
       "      <td>100</td>\n",
       "      <td>14.56</td>\n",
       "      <td>PH</td>\n",
       "      <td>1611792955</td>\n",
       "    </tr>\n",
       "    <tr>\n",
       "      <th>554</th>\n",
       "      <td>Deniliquin</td>\n",
       "      <td>-35.5333</td>\n",
       "      <td>144.9667</td>\n",
       "      <td>75.99</td>\n",
       "      <td>50</td>\n",
       "      <td>100</td>\n",
       "      <td>1.99</td>\n",
       "      <td>AU</td>\n",
       "      <td>1611792955</td>\n",
       "    </tr>\n",
       "  </tbody>\n",
       "</table>\n",
       "<p>541 rows × 9 columns</p>\n",
       "</div>"
      ],
      "text/plain": [
       "                City  Latitude  Longitude  Max Temp  Humidity  Cloudiness  \\\n",
       "0              Sirte   31.2089    16.5887     55.85        65          31   \n",
       "1              Chara   56.9064   118.2631    -31.86        77         100   \n",
       "2               Raja    8.4596    25.6780     70.90        25          49   \n",
       "3            Rikitea  -23.1203  -134.9692     79.95        73          92   \n",
       "4          Esperance  -33.8667   121.9000     66.20        77          90   \n",
       "..               ...       ...        ...       ...       ...         ...   \n",
       "550          Ardatov   55.2421    43.0970     33.67        95         100   \n",
       "551             Bara   10.3744    10.7288     73.85        17          25   \n",
       "552  North Las Vegas   36.1989  -115.1175     50.00        46          90   \n",
       "553    San Policarpo   12.1791   125.5072     80.65        82         100   \n",
       "554       Deniliquin  -35.5333   144.9667     75.99        50         100   \n",
       "\n",
       "     Wind Speed Country        Date  \n",
       "0         17.67      LY  1611792587  \n",
       "1          0.63      RU  1611792710  \n",
       "2          3.91      SS  1611792710  \n",
       "3         11.68      PF  1611792711  \n",
       "4          9.22      AU  1611792711  \n",
       "..          ...     ...         ...  \n",
       "550       13.18      RU  1611792954  \n",
       "551       10.51      NG  1611792954  \n",
       "552       12.66      US  1611792915  \n",
       "553       14.56      PH  1611792955  \n",
       "554        1.99      AU  1611792955  \n",
       "\n",
       "[541 rows x 9 columns]"
      ]
     },
     "execution_count": 8,
     "metadata": {},
     "output_type": "execute_result"
    }
   ],
   "source": [
    "low_hum = pd.DataFrame(weather_df[weather_df[\"Humidity\"]< 100])\n",
    "low_hum"
   ]
  },
  {
   "cell_type": "markdown",
   "metadata": {},
   "source": [
    "## Plotting the Data "
   ]
  },
  {
   "cell_type": "markdown",
   "metadata": {},
   "source": [
    "### Latitude vs. Temperature Plot "
   ]
  },
  {
   "cell_type": "code",
   "execution_count": 9,
   "metadata": {},
   "outputs": [
    {
     "data": {
      "text/plain": [
       "Text(0, 0.5, 'Temperature')"
      ]
     },
     "execution_count": 9,
     "metadata": {},
     "output_type": "execute_result"
    },
    {
     "data": {
      "image/png": "[encoded data removed]",
      "text/plain": [
       "<Figure size 432x288 with 1 Axes>"
      ]
     },
     "metadata": {
      "needs_background": "light"
     },
     "output_type": "display_data"
    }
   ],
   "source": [
    "plot_lat = low_hum['Latitude']\n",
    "plot_temp = low_hum[\"Max Temp\"]\n",
    "\n",
    "plt.scatter(plot_lat, plot_temp, marker=\"o\", facecolors = \"blue\", edgecolors=\"black\", \n",
    "            alpha=.99)\n",
    "\n",
    "plt.grid(color=\"grey\", linestyle=\"-\", linewidth=1)\n",
    "plt.title(\"Latitude vs. Temperature\")\n",
    "plt.xlabel(\"Latitude\")\n",
    "plt.ylabel(\"Temperature\")"
   ]
  },
  {
   "cell_type": "markdown",
   "metadata": {},
   "source": [
    "### Latitude vs. Humidty Plot"
   ]
  },
  {
   "cell_type": "code",
   "execution_count": 10,
   "metadata": {},
   "outputs": [
    {
     "data": {
      "text/plain": [
       "Text(0, 0.5, 'Humidity')"
      ]
     },
     "execution_count": 10,
     "metadata": {},
     "output_type": "execute_result"
    },
    {
     "data": {
      "image/png": "[encoded data removed]",
      "text/plain": [
       "<Figure size 432x288 with 1 Axes>"
      ]
     },
     "metadata": {
      "needs_background": "light"
     },
     "output_type": "display_data"
    }
   ],
   "source": [
    "plot_lat = low_hum['Latitude']\n",
    "plot_humidity = low_hum[\"Humidity\"]\n",
    "\n",
    "plt.scatter(plot_lat, plot_humidity, marker=\"o\", facecolors = \"blue\", edgecolors=\"black\", \n",
    "            alpha=.99)\n",
    "\n",
    "plt.grid(color=\"grey\", linestyle=\"-\", linewidth=1)\n",
    "plt.title(f\"Latitude vs. Humidity\")\n",
    "plt.xlabel(\"Latitude\")\n",
    "plt.ylabel(\"Humidity\")"
   ]
  },
  {
   "cell_type": "markdown",
   "metadata": {},
   "source": [
    "### Latitude vs. Cloudiness Plot"
   ]
  },
  {
   "cell_type": "code",
   "execution_count": 11,
   "metadata": {},
   "outputs": [
    {
     "data": {
      "text/plain": [
       "Text(0, 0.5, 'Humidity')"
      ]
     },
     "execution_count": 11,
     "metadata": {},
     "output_type": "execute_result"
    },
    {
     "data": {
      "image/png": "[encoded data removed]",
      "text/plain": [
       "<Figure size 432x288 with 1 Axes>"
      ]
     },
     "metadata": {
      "needs_background": "light"
     },
     "output_type": "display_data"
    }
   ],
   "source": [
    "plot_lat = low_hum['Latitude']\n",
    "plot_cloud = low_hum[\"Cloudiness\"]\n",
    "\n",
    "plt.scatter(plot_lat, plot_cloud, marker=\"o\", facecolors = \"blue\", edgecolors=\"black\", \n",
    "            alpha=.99)\n",
    "\n",
    "plt.grid(color=\"grey\", linestyle=\"-\", linewidth=.5)\n",
    "plt.title(f\"Latitude vs. Cloudiness\")\n",
    "plt.xlabel(\"Latitude\")\n",
    "plt.ylabel(\"Humidity\")"
   ]
  },
  {
   "cell_type": "markdown",
   "metadata": {},
   "source": [
    "###  Latitude vs. Wind Speed Plot"
   ]
  },
  {
   "cell_type": "code",
   "execution_count": 12,
   "metadata": {},
   "outputs": [
    {
     "data": {
      "text/plain": [
       "Text(0, 0.5, 'Humidity')"
      ]
     },
     "execution_count": 12,
     "metadata": {},
     "output_type": "execute_result"
    },
    {
     "data": {
      "image/png": "[encoded data removed]",
      "text/plain": [
       "<Figure size 432x288 with 1 Axes>"
      ]
     },
     "metadata": {
      "needs_background": "light"
     },
     "output_type": "display_data"
    }
   ],
   "source": [
    "plot_lat = low_hum['Latitude']\n",
    "plot_wind = low_hum[\"Wind Speed\"]\n",
    "\n",
    "plt.scatter(plot_lat, plot_wind, marker=\"o\", facecolors = \"blue\", edgecolors=\"black\", \n",
    "            alpha=.99)\n",
    "\n",
    "plt.grid(color=\"grey\", linestyle=\"-\", linewidth=.5)\n",
    "plt.title(f\"Latitude vs. Wind Speed\")\n",
    "plt.xlabel(\"Latitude\")\n",
    "plt.ylabel(\"Humidity\")"
   ]
  },
  {
   "cell_type": "markdown",
   "metadata": {},
   "source": [
    "## Linear Regression"
   ]
  },
  {
   "cell_type": "code",
   "execution_count": 13,
   "metadata": {
    "scrolled": true
   },
   "outputs": [
    {
     "data": {
      "text/html": [
       "<div>\n",
       "<style scoped>\n",
       "    .dataframe tbody tr th:only-of-type {\n",
       "        vertical-align: middle;\n",
       "    }\n",
       "\n",
       "    .dataframe tbody tr th {\n",
       "        vertical-align: top;\n",
       "    }\n",
       "\n",
       "    .dataframe thead th {\n",
       "        text-align: right;\n",
       "    }\n",
       "</style>\n",
       "<table border=\"1\" class=\"dataframe\">\n",
       "  <thead>\n",
       "    <tr style=\"text-align: right;\">\n",
       "      <th></th>\n",
       "      <th>City</th>\n",
       "      <th>Latitude</th>\n",
       "      <th>Longitude</th>\n",
       "      <th>Max Temp</th>\n",
       "      <th>Humidity</th>\n",
       "      <th>Cloudiness</th>\n",
       "      <th>Wind Speed</th>\n",
       "      <th>Country</th>\n",
       "      <th>Date</th>\n",
       "    </tr>\n",
       "  </thead>\n",
       "  <tbody>\n",
       "    <tr>\n",
       "      <th>0</th>\n",
       "      <td>Sirte</td>\n",
       "      <td>31.2089</td>\n",
       "      <td>16.5887</td>\n",
       "      <td>55.85</td>\n",
       "      <td>65</td>\n",
       "      <td>31</td>\n",
       "      <td>17.67</td>\n",
       "      <td>LY</td>\n",
       "      <td>1611792587</td>\n",
       "    </tr>\n",
       "    <tr>\n",
       "      <th>1</th>\n",
       "      <td>Chara</td>\n",
       "      <td>56.9064</td>\n",
       "      <td>118.2631</td>\n",
       "      <td>-31.86</td>\n",
       "      <td>77</td>\n",
       "      <td>100</td>\n",
       "      <td>0.63</td>\n",
       "      <td>RU</td>\n",
       "      <td>1611792710</td>\n",
       "    </tr>\n",
       "    <tr>\n",
       "      <th>2</th>\n",
       "      <td>Raja</td>\n",
       "      <td>8.4596</td>\n",
       "      <td>25.6780</td>\n",
       "      <td>70.90</td>\n",
       "      <td>25</td>\n",
       "      <td>49</td>\n",
       "      <td>3.91</td>\n",
       "      <td>SS</td>\n",
       "      <td>1611792710</td>\n",
       "    </tr>\n",
       "    <tr>\n",
       "      <th>6</th>\n",
       "      <td>Pevek</td>\n",
       "      <td>69.7008</td>\n",
       "      <td>170.3133</td>\n",
       "      <td>-22.29</td>\n",
       "      <td>88</td>\n",
       "      <td>100</td>\n",
       "      <td>4.09</td>\n",
       "      <td>RU</td>\n",
       "      <td>1611792711</td>\n",
       "    </tr>\n",
       "    <tr>\n",
       "      <th>8</th>\n",
       "      <td>Xam Nua</td>\n",
       "      <td>20.4197</td>\n",
       "      <td>104.0439</td>\n",
       "      <td>58.84</td>\n",
       "      <td>90</td>\n",
       "      <td>64</td>\n",
       "      <td>3.00</td>\n",
       "      <td>LA</td>\n",
       "      <td>1611792712</td>\n",
       "    </tr>\n",
       "  </tbody>\n",
       "</table>\n",
       "</div>"
      ],
      "text/plain": [
       "      City  Latitude  Longitude  Max Temp  Humidity  Cloudiness  Wind Speed  \\\n",
       "0    Sirte   31.2089    16.5887     55.85        65          31       17.67   \n",
       "1    Chara   56.9064   118.2631    -31.86        77         100        0.63   \n",
       "2     Raja    8.4596    25.6780     70.90        25          49        3.91   \n",
       "6    Pevek   69.7008   170.3133    -22.29        88         100        4.09   \n",
       "8  Xam Nua   20.4197   104.0439     58.84        90          64        3.00   \n",
       "\n",
       "  Country        Date  \n",
       "0      LY  1611792587  \n",
       "1      RU  1611792710  \n",
       "2      SS  1611792710  \n",
       "6      RU  1611792711  \n",
       "8      LA  1611792712  "
      ]
     },
     "execution_count": 13,
     "metadata": {},
     "output_type": "execute_result"
    }
   ],
   "source": [
    "north_hem = pd.DataFrame(low_hum[low_hum[\"Latitude\"]> 0])\n",
    "north_hem.head()"
   ]
  },
  {
   "cell_type": "code",
   "execution_count": 14,
   "metadata": {},
   "outputs": [],
   "source": [
    "north_lat = north_hem[\"Latitude\"]\n",
    "north_maxtemp = north_hem[\"Max Temp\"]\n",
    "north_humid = north_hem[\"Humidity\"]\n",
    "north_cloud = north_hem[\"Cloudiness\"]\n",
    "north_wind = north_hem[\"Wind Speed\"]"
   ]
  },
  {
   "cell_type": "code",
   "execution_count": 15,
   "metadata": {},
   "outputs": [
    {
     "data": {
      "text/html": [
       "<div>\n",
       "<style scoped>\n",
       "    .dataframe tbody tr th:only-of-type {\n",
       "        vertical-align: middle;\n",
       "    }\n",
       "\n",
       "    .dataframe tbody tr th {\n",
       "        vertical-align: top;\n",
       "    }\n",
       "\n",
       "    .dataframe thead th {\n",
       "        text-align: right;\n",
       "    }\n",
       "</style>\n",
       "<table border=\"1\" class=\"dataframe\">\n",
       "  <thead>\n",
       "    <tr style=\"text-align: right;\">\n",
       "      <th></th>\n",
       "      <th>City</th>\n",
       "      <th>Latitude</th>\n",
       "      <th>Longitude</th>\n",
       "      <th>Max Temp</th>\n",
       "      <th>Humidity</th>\n",
       "      <th>Cloudiness</th>\n",
       "      <th>Wind Speed</th>\n",
       "      <th>Country</th>\n",
       "      <th>Date</th>\n",
       "    </tr>\n",
       "  </thead>\n",
       "  <tbody>\n",
       "    <tr>\n",
       "      <th>3</th>\n",
       "      <td>Rikitea</td>\n",
       "      <td>-23.1203</td>\n",
       "      <td>-134.9692</td>\n",
       "      <td>79.95</td>\n",
       "      <td>73</td>\n",
       "      <td>92</td>\n",
       "      <td>11.68</td>\n",
       "      <td>PF</td>\n",
       "      <td>1611792711</td>\n",
       "    </tr>\n",
       "    <tr>\n",
       "      <th>4</th>\n",
       "      <td>Esperance</td>\n",
       "      <td>-33.8667</td>\n",
       "      <td>121.9000</td>\n",
       "      <td>66.20</td>\n",
       "      <td>77</td>\n",
       "      <td>90</td>\n",
       "      <td>9.22</td>\n",
       "      <td>AU</td>\n",
       "      <td>1611792711</td>\n",
       "    </tr>\n",
       "    <tr>\n",
       "      <th>5</th>\n",
       "      <td>Atuona</td>\n",
       "      <td>-9.8000</td>\n",
       "      <td>-139.0333</td>\n",
       "      <td>78.78</td>\n",
       "      <td>78</td>\n",
       "      <td>7</td>\n",
       "      <td>15.93</td>\n",
       "      <td>PF</td>\n",
       "      <td>1611792711</td>\n",
       "    </tr>\n",
       "    <tr>\n",
       "      <th>7</th>\n",
       "      <td>Maragogi</td>\n",
       "      <td>-9.0122</td>\n",
       "      <td>-35.2225</td>\n",
       "      <td>77.22</td>\n",
       "      <td>83</td>\n",
       "      <td>23</td>\n",
       "      <td>9.13</td>\n",
       "      <td>BR</td>\n",
       "      <td>1611792492</td>\n",
       "    </tr>\n",
       "    <tr>\n",
       "      <th>11</th>\n",
       "      <td>Busselton</td>\n",
       "      <td>-33.6500</td>\n",
       "      <td>115.3333</td>\n",
       "      <td>64.00</td>\n",
       "      <td>77</td>\n",
       "      <td>8</td>\n",
       "      <td>11.72</td>\n",
       "      <td>AU</td>\n",
       "      <td>1611792713</td>\n",
       "    </tr>\n",
       "  </tbody>\n",
       "</table>\n",
       "</div>"
      ],
      "text/plain": [
       "         City  Latitude  Longitude  Max Temp  Humidity  Cloudiness  \\\n",
       "3     Rikitea  -23.1203  -134.9692     79.95        73          92   \n",
       "4   Esperance  -33.8667   121.9000     66.20        77          90   \n",
       "5      Atuona   -9.8000  -139.0333     78.78        78           7   \n",
       "7    Maragogi   -9.0122   -35.2225     77.22        83          23   \n",
       "11  Busselton  -33.6500   115.3333     64.00        77           8   \n",
       "\n",
       "    Wind Speed Country        Date  \n",
       "3        11.68      PF  1611792711  \n",
       "4         9.22      AU  1611792711  \n",
       "5        15.93      PF  1611792711  \n",
       "7         9.13      BR  1611792492  \n",
       "11       11.72      AU  1611792713  "
      ]
     },
     "execution_count": 15,
     "metadata": {},
     "output_type": "execute_result"
    }
   ],
   "source": [
    "south_hem = pd.DataFrame(low_hum[low_hum[\"Latitude\"]< 0])\n",
    "south_hem.head()"
   ]
  },
  {
   "cell_type": "code",
   "execution_count": 16,
   "metadata": {},
   "outputs": [],
   "source": [
    "south_lat = south_hem[\"Latitude\"]\n",
    "south_maxtemp = south_hem[\"Max Temp\"]\n",
    "south_humid = south_hem[\"Humidity\"]\n",
    "south_cloud = south_hem[\"Cloudiness\"]\n",
    "south_wind = south_hem[\"Wind Speed\"]"
   ]
  },
  {
   "cell_type": "markdown",
   "metadata": {},
   "source": [
    "### Northern Hemisphere: Max Temp vs. Latitude Linear Regression "
   ]
  },
  {
   "cell_type": "code",
   "execution_count": 17,
   "metadata": {},
   "outputs": [
    {
     "name": "stdout",
     "output_type": "stream",
     "text": [
      "The r-value is -0.85\n"
     ]
    },
    {
     "data": {
      "image/png": "[encoded data removed]",
      "text/plain": [
       "<Figure size 432x288 with 1 Axes>"
      ]
     },
     "metadata": {
      "needs_background": "light"
     },
     "output_type": "display_data"
    }
   ],
   "source": [
    "correlation = st.pearsonr(north_lat, north_maxtemp)\n",
    "(slope, intercept, rvalue, pvalue, stderr) = st.linregress(north_lat, north_maxtemp)\n",
    "regress_values = north_lat * slope + intercept\n",
    "line_eq = \"y = \" + str(round(slope,2)) + \"x + \" + str(round(intercept,2))\n",
    "plt.scatter(north_lat, north_maxtemp)\n",
    "plt.plot(north_lat,regress_values, \"r-\")\n",
    "plt.annotate(line_eq,(0,50),fontsize=15,color=\"red\")\n",
    "plt.xlabel('Latitude')\n",
    "plt.ylabel('Max Temp')\n",
    "plt.title(\"Northern Hemisphere: Latitude vs. Max Temp\")\n",
    "print(f\"The r-value is {round(correlation[0],2)}\")\n",
    "plt.show()"
   ]
  },
  {
   "cell_type": "markdown",
   "metadata": {},
   "source": [
    "### Southern Hemisphere: Max Temp vs. Latitude Linear Regression "
   ]
  },
  {
   "cell_type": "code",
   "execution_count": 18,
   "metadata": {},
   "outputs": [
    {
     "name": "stdout",
     "output_type": "stream",
     "text": [
      "The r-value is 0.63\n"
     ]
    },
    {
     "data": {
      "image/png": "[encoded data removed]",
      "text/plain": [
       "<Figure size 432x288 with 1 Axes>"
      ]
     },
     "metadata": {
      "needs_background": "light"
     },
     "output_type": "display_data"
    }
   ],
   "source": [
    "correlation = st.pearsonr(south_lat, south_maxtemp)\n",
    "(slope, intercept, rvalue, pvalue, stderr) = st.linregress(south_lat, south_maxtemp)\n",
    "regress_values = south_lat * slope + intercept\n",
    "line_eq = \"y = \" + str(round(slope,2)) + \"x + \" + str(round(intercept,2))\n",
    "plt.scatter(south_lat, south_maxtemp)\n",
    "plt.plot(south_lat,regress_values, \"r-\")\n",
    "plt.annotate(line_eq,(0,50),fontsize=15,color=\"red\")\n",
    "plt.xlabel('Latitude')\n",
    "plt.ylabel('Max Temp')\n",
    "plt.title(\"Southern Hemisphere: Latitude vs. Max Temp\")\n",
    "print(f\"The r-value is {round(correlation[0],2)}\")\n",
    "plt.show()"
   ]
  },
  {
   "cell_type": "markdown",
   "metadata": {},
   "source": [
    "### Northern Hemisphere: Humidty (%) vs. Latitude Linear Regression "
   ]
  },
  {
   "cell_type": "code",
   "execution_count": 19,
   "metadata": {},
   "outputs": [
    {
     "name": "stdout",
     "output_type": "stream",
     "text": [
      "The r-value is 0.39\n"
     ]
    },
    {
     "data": {
      "image/png": "[encoded data removed]",
      "text/plain": [
       "<Figure size 432x288 with 1 Axes>"
      ]
     },
     "metadata": {
      "needs_background": "light"
     },
     "output_type": "display_data"
    }
   ],
   "source": [
    "correlation = st.pearsonr(north_lat, north_humid)\n",
    "(slope, intercept, rvalue, pvalue, stderr) = st.linregress(north_lat, north_humid)\n",
    "regress_values = north_lat * slope + intercept\n",
    "line_eq = \"y = \" + str(round(slope,2)) + \"x + \" + str(round(intercept,2))\n",
    "plt.scatter(north_lat, north_humid)\n",
    "plt.plot(north_lat,regress_values, \"r-\")\n",
    "plt.annotate(line_eq,(0,50),fontsize=15,color=\"red\")\n",
    "plt.xlabel('Latitude')\n",
    "plt.ylabel('Humidity')\n",
    "plt.title(\"Northern Latitude vs. Humidity\")\n",
    "print(f\"The r-value is {round(correlation[0],2)}\")\n",
    "plt.show()"
   ]
  },
  {
   "cell_type": "markdown",
   "metadata": {},
   "source": [
    "### Southern Hemisphere: Humidty (%) vs. Latitude Linear Regression "
   ]
  },
  {
   "cell_type": "code",
   "execution_count": 20,
   "metadata": {},
   "outputs": [
    {
     "name": "stdout",
     "output_type": "stream",
     "text": [
      "The r-value is 0.35\n"
     ]
    },
    {
     "data": {
      "image/png": "[encoded data removed]",
      "text/plain": [
       "<Figure size 432x288 with 1 Axes>"
      ]
     },
     "metadata": {
      "needs_background": "light"
     },
     "output_type": "display_data"
    }
   ],
   "source": [
    "correlation = st.pearsonr(south_lat, south_humid)\n",
    "(slope, intercept, rvalue, pvalue, stderr) = st.linregress(south_lat, south_humid)\n",
    "regress_values = south_lat * slope + intercept\n",
    "line_eq = \"y = \" + str(round(slope,2)) + \"x + \" + str(round(intercept,2))\n",
    "plt.scatter(south_lat, south_humid)\n",
    "plt.plot(south_lat,regress_values, \"r-\")\n",
    "plt.annotate(line_eq,(0,50),fontsize=15,color=\"red\")\n",
    "plt.xlabel('Latitude')\n",
    "plt.ylabel('Humidity')\n",
    "plt.title(\"Southern Hemisphere: Latitude vs. Humidity\")\n",
    "print(f\"The r-value is {round(correlation[0],2)}\")\n",
    "plt.show()"
   ]
  },
  {
   "cell_type": "markdown",
   "metadata": {},
   "source": [
    "### Northern Hemisphere: Cloudiness (%) vs. Latitude Linear Regression "
   ]
  },
  {
   "cell_type": "code",
   "execution_count": 21,
   "metadata": {},
   "outputs": [
    {
     "name": "stdout",
     "output_type": "stream",
     "text": [
      "The r-value is 0.32\n"
     ]
    },
    {
     "data": {
      "image/png": "[encoded data removed]",
      "text/plain": [
       "<Figure size 432x288 with 1 Axes>"
      ]
     },
     "metadata": {
      "needs_background": "light"
     },
     "output_type": "display_data"
    }
   ],
   "source": [
    "correlation = st.pearsonr(north_lat, north_cloud)\n",
    "(slope, intercept, rvalue, pvalue, stderr) = st.linregress(north_lat, north_cloud)\n",
    "regress_values = north_lat * slope + intercept\n",
    "line_eq = \"y = \" + str(round(slope,2)) + \"x + \" + str(round(intercept,2))\n",
    "plt.scatter(north_lat, north_cloud)\n",
    "plt.plot(north_lat,regress_values, \"r-\")\n",
    "plt.annotate(line_eq,(0,50),fontsize=15,color=\"red\")\n",
    "plt.xlabel('Latitude')\n",
    "plt.ylabel('Cloudiness')\n",
    "plt.title(\"Latitude vs. Cloudiness\")\n",
    "print(f\"The r-value is {round(correlation[0],2)}\")\n",
    "plt.show()"
   ]
  },
  {
   "cell_type": "markdown",
   "metadata": {},
   "source": [
    "### Southern Hemisphere: Cloudiness (%) vs. Latitude Linear Regression "
   ]
  },
  {
   "cell_type": "code",
   "execution_count": 22,
   "metadata": {},
   "outputs": [
    {
     "name": "stdout",
     "output_type": "stream",
     "text": [
      "The r-value is 0.19\n"
     ]
    },
    {
     "data": {
      "image/png": "[encoded data removed]",
      "text/plain": [
       "<Figure size 432x288 with 1 Axes>"
      ]
     },
     "metadata": {
      "needs_background": "light"
     },
     "output_type": "display_data"
    }
   ],
   "source": [
    "correlation = st.pearsonr(south_lat, south_cloud)\n",
    "(slope, intercept, rvalue, pvalue, stderr) = st.linregress(south_lat, south_cloud)\n",
    "regress_values = south_lat * slope + intercept\n",
    "line_eq = \"y = \" + str(round(slope,2)) + \"x + \" + str(round(intercept,2))\n",
    "plt.scatter(south_lat, south_cloud)\n",
    "plt.plot(south_lat,regress_values, \"r-\")\n",
    "plt.annotate(line_eq,(0,50),fontsize=15,color=\"red\")\n",
    "plt.xlabel('Latitude')\n",
    "plt.ylabel('Cloudiness')\n",
    "plt.title(\"Southern Hemisphere Latitude vs. Cloudiness\")\n",
    "print(f\"The r-value is {round(correlation[0],2)}\")\n",
    "plt.show()"
   ]
  },
  {
   "cell_type": "markdown",
   "metadata": {},
   "source": [
    "### Northern Hemisphere: Wind Speed (mph) vs. Latitude Linear Regression "
   ]
  },
  {
   "cell_type": "code",
   "execution_count": 23,
   "metadata": {},
   "outputs": [
    {
     "name": "stdout",
     "output_type": "stream",
     "text": [
      "The r-value is 0.0\n"
     ]
    },
    {
     "data": {
      "image/png": "[encoded data removed]",
      "text/plain": [
       "<Figure size 432x288 with 1 Axes>"
      ]
     },
     "metadata": {
      "needs_background": "light"
     },
     "output_type": "display_data"
    }
   ],
   "source": [
    "correlation = st.pearsonr(north_lat, north_wind)\n",
    "(slope, intercept, rvalue, pvalue, stderr) = st.linregress(north_lat, north_wind)\n",
    "regress_values = north_lat * slope + intercept\n",
    "line_eq = \"y = \" + str(round(slope,2)) + \"x + \" + str(round(intercept,2))\n",
    "plt.scatter(north_lat, north_wind)\n",
    "plt.plot(north_lat,regress_values, \"r-\")\n",
    "# plt.annotate(line_eq,(0,50),fontsize=15,color=\"red\")\n",
    "plt.xlabel('Latitude')\n",
    "plt.ylabel('Wind Speed')\n",
    "plt.title(\"Nortern Hemisphere: Latitude vs. Wind Speed\")\n",
    "print(f\"The r-value is {round(correlation[0],2)}\")\n",
    "plt.show()"
   ]
  },
  {
   "cell_type": "markdown",
   "metadata": {},
   "source": [
    "### Southern Hemisphere: Wind Speed (mph) vs. Latitude Linear Regression "
   ]
  },
  {
   "cell_type": "code",
   "execution_count": 24,
   "metadata": {},
   "outputs": [
    {
     "name": "stdout",
     "output_type": "stream",
     "text": [
      "The r-value is -0.38\n"
     ]
    },
    {
     "data": {
      "image/png": "[encoded data removed]",
      "text/plain": [
       "<Figure size 432x288 with 1 Axes>"
      ]
     },
     "metadata": {
      "needs_background": "light"
     },
     "output_type": "display_data"
    }
   ],
   "source": [
    "correlation = st.pearsonr(south_lat, south_wind)\n",
    "(slope, intercept, rvalue, pvalue, stderr) = st.linregress(south_lat, south_wind)\n",
    "regress_values = south_lat * slope + intercept\n",
    "line_eq = \"y = \" + str(round(slope,2)) + \"x + \" + str(round(intercept,2))\n",
    "plt.scatter(south_lat, south_wind)\n",
    "plt.plot(south_lat,regress_values, \"r-\")\n",
    "# plt.annotate(line_eq,(0,50),fontsize=15,color=\"red\")\n",
    "plt.xlabel('Latitude')\n",
    "plt.ylabel('Wind Speed')\n",
    "plt.title(\"Southern Hemisphere: Latitude vs. Wind Speed\")\n",
    "print(f\"The r-value is {round(correlation[0],2)}\")\n",
    "plt.show()"
   ]
  },
  {
   "cell_type": "code",
   "execution_count": 26,
   "metadata": {},
   "outputs": [],
   "source": [
    "weather_df.to_csv(\"output_data/cities.csv\", index=False, header=True)"
   ]
  },
  {
   "cell_type": "code",
   "execution_count": null,
   "metadata": {},
   "outputs": [],
   "source": []
  }
 ],
 "metadata": {
  "kernelspec": {
   "display_name": "Python 3",
   "language": "python",
   "name": "python3"
  },
  "language_info": {
   "codemirror_mode": {
    "name": "ipython",
    "version": 3
   },
   "file_extension": ".py",
   "mimetype": "text/x-python",
   "name": "python",
   "nbconvert_exporter": "python",
   "pygments_lexer": "ipython3",
   "version": "3.8.3"
  }
 },
 "nbformat": 4,
 "nbformat_minor": 5
}
